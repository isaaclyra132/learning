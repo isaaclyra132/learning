{
 "cells": [
  {
   "cell_type": "markdown",
   "id": "93aaf6ac",
   "metadata": {},
   "source": [
    "# Inputs"
   ]
  },
  {
   "cell_type": "code",
   "execution_count": 4,
   "id": "afa538ed",
   "metadata": {},
   "outputs": [
    {
     "name": "stdout",
     "output_type": "stream",
     "text": [
      "Informe a sua idade: 23\n",
      "23 <class 'str'>\n"
     ]
    }
   ],
   "source": [
    "idade = input(\"Informe a sua idade: \") # o input sempre transforma a entrada em string\n",
    "print(idade, type(idade))\n"
   ]
  },
  {
   "cell_type": "code",
   "execution_count": 6,
   "id": "2d660d05",
   "metadata": {},
   "outputs": [
    {
     "name": "stdout",
     "output_type": "stream",
     "text": [
      "23 <class 'int'>\n"
     ]
    }
   ],
   "source": [
    "idade = int(idade)\n",
    "print(idade, type(idade))"
   ]
  },
  {
   "cell_type": "code",
   "execution_count": 9,
   "id": "568a6e14",
   "metadata": {},
   "outputs": [
    {
     "ename": "ValueError",
     "evalue": "invalid literal for int() with base 10: '123abc'",
     "output_type": "error",
     "traceback": [
      "\u001b[1;31m---------------------------------------------------------------------------\u001b[0m",
      "\u001b[1;31mValueError\u001b[0m                                Traceback (most recent call last)",
      "\u001b[1;32m<ipython-input-9-68ed97615d98>\u001b[0m in \u001b[0;36m<module>\u001b[1;34m\u001b[0m\n\u001b[1;32m----> 1\u001b[1;33m \u001b[0mint\u001b[0m\u001b[1;33m(\u001b[0m\u001b[1;34m\"123abc\"\u001b[0m\u001b[1;33m)\u001b[0m \u001b[1;31m# não tem usar casting em tudo\u001b[0m\u001b[1;33m\u001b[0m\u001b[1;33m\u001b[0m\u001b[0m\n\u001b[0m",
      "\u001b[1;31mValueError\u001b[0m: invalid literal for int() with base 10: '123abc'"
     ]
    }
   ],
   "source": [
    "int(\"123abc\") # não tem usar casting em tudo"
   ]
  },
  {
   "cell_type": "code",
   "execution_count": 11,
   "id": "40144230",
   "metadata": {},
   "outputs": [
    {
     "name": "stdout",
     "output_type": "stream",
     "text": [
      "123.25\n",
      "123.25\n",
      "False\n",
      "True\n",
      "False\n",
      "True\n"
     ]
    }
   ],
   "source": [
    "print(float(\"123.25\"))\n",
    "print(str(123.25))\n",
    "print(bool(''))\n",
    "print(bool('abc'))\n",
    "print(bool(0))\n",
    "print(bool(-2))"
   ]
  },
  {
   "cell_type": "markdown",
   "id": "f17dd4c7",
   "metadata": {},
   "source": [
    "## Exemplo 1"
   ]
  },
  {
   "cell_type": "code",
   "execution_count": 12,
   "id": "5092ae3e",
   "metadata": {
    "scrolled": true
   },
   "outputs": [
    {
     "name": "stdout",
     "output_type": "stream",
     "text": [
      "Digite o valor do seu salário mensal: 5000\n",
      "Digite o valor do seu gasto mensal em média: 3000\n",
      "O montante que você pode economizar ao fim do ano é de  24000.0\n"
     ]
    }
   ],
   "source": [
    "salario_mensal = input(\"Digite o valor do seu salário mensal: \")\n",
    "salario_mensal = float(salario_mensal)\n",
    "\n",
    "gasto_mensal = input(\"Digite o valor do seu gasto mensal em média: \")\n",
    "gasto_mensal = float(gasto_mensal)\n",
    "\n",
    "salario_total = salario_mensal *12\n",
    "gasto_total = gasto_mensal*12\n",
    "\n",
    "montante_economizado = salario_total - gasto_total\n",
    "print(\"O montante que você pode economizar ao fim do ano é de \", montante_economizado)"
   ]
  },
  {
   "cell_type": "markdown",
   "id": "c847e7de",
   "metadata": {},
   "source": [
    "# TEXTO DA AULA\n",
    "## Outputs\n",
    "Chamamos de **saídas** ou **outputs** do nosso programa todos os dados que são gerados pelo programa e fornecidos para o usuário.\n",
    "\n",
    "Já conhecemos a função print() que recebe um valor ou uma sequência de valores e realiza a tarefa de imprimí-los na tela."
   ]
  },
  {
   "cell_type": "code",
   "execution_count": 1,
   "id": "8345dac4",
   "metadata": {},
   "outputs": [
    {
     "name": "stdout",
     "output_type": "stream",
     "text": [
      "eu estudo na  Let's Code\n",
      "pi vale 3.14\n",
      "4.140000000000001 9.8596\n"
     ]
    }
   ],
   "source": [
    "y = 3.14 # uma variável do tipo real (float)\n",
    "escola = \"Let's Code\" # uma variável literal (string)\n",
    "\n",
    "# Podemos exibir textos na tela e/ou valores de variáveis com a função print().\n",
    "print('eu estudo na ', escola)\n",
    "print('pi vale', y)\n",
    "\n",
    "# Podemos fazer operações dentro do print:\n",
    "print (y+1, y**2)"
   ]
  },
  {
   "cell_type": "markdown",
   "id": "a684a3ff",
   "metadata": {},
   "source": [
    "## Inputs\n",
    "Já as **entradas** ou **inputs** do nosso programa são as informações que o usuário possui e deve fornecer ao código."
   ]
  },
  {
   "cell_type": "code",
   "execution_count": null,
   "id": "57849fd8",
   "metadata": {},
   "outputs": [],
   "source": [
    "# Podemos ler valores do teclado com a função input().\n",
    "# Ela permite que a gente passe uma mensagem para o usuário.\n",
    "nome = input('Digite o seu nome: ')\n",
    "\n",
    "# Tudo que é lido por input() é considerado uma string (str).\n",
    "# Para tratar como outros tipos de dados é necessário realizar a conversão:\n",
    "peso = float(input('Digite o seu peso: ')) # lê o peso como número real\n",
    "idade = int(input('Digite a sua idade: ')) # lê a idade como número inteiro\n",
    "\n",
    "print(nome, 'pesa', peso, 'kg e tem', idade, 'anos de idade.')"
   ]
  }
 ],
 "metadata": {
  "kernelspec": {
   "display_name": "Python 3",
   "language": "python",
   "name": "python3"
  },
  "language_info": {
   "codemirror_mode": {
    "name": "ipython",
    "version": 3
   },
   "file_extension": ".py",
   "mimetype": "text/x-python",
   "name": "python",
   "nbconvert_exporter": "python",
   "pygments_lexer": "ipython3",
   "version": "3.9.6"
  }
 },
 "nbformat": 4,
 "nbformat_minor": 5
}
