{
 "cells": [
  {
   "cell_type": "markdown",
   "id": "af842248",
   "metadata": {},
   "source": [
    "# Funções II"
   ]
  },
  {
   "cell_type": "code",
   "execution_count": 5,
   "id": "8c0800dd",
   "metadata": {},
   "outputs": [],
   "source": [
    "def calcula_media(valor1, valor2, valor3):\n",
    "    soma = valor1 + valor2 + valor3\n",
    "    media = soma/3\n",
    "    return media"
   ]
  },
  {
   "cell_type": "code",
   "execution_count": 6,
   "id": "1e025759",
   "metadata": {},
   "outputs": [],
   "source": [
    "def calcula_media(*args):\n",
    "    print(args, type(args))"
   ]
  },
  {
   "cell_type": "code",
   "execution_count": 7,
   "id": "2cd513de",
   "metadata": {},
   "outputs": [
    {
     "name": "stdout",
     "output_type": "stream",
     "text": [
      "(10, 8, 9) <class 'tuple'>\n"
     ]
    }
   ],
   "source": [
    "calcula_media(10,8,9)"
   ]
  },
  {
   "cell_type": "code",
   "execution_count": 8,
   "id": "e512800c",
   "metadata": {},
   "outputs": [],
   "source": [
    "def calcula_media(*args):\n",
    "    soma = sum(args)\n",
    "    media = soma / len(args)\n",
    "    return media"
   ]
  },
  {
   "cell_type": "code",
   "execution_count": 9,
   "id": "2d2ab6a3",
   "metadata": {},
   "outputs": [
    {
     "data": {
      "text/plain": [
       "9.0"
      ]
     },
     "execution_count": 9,
     "metadata": {},
     "output_type": "execute_result"
    }
   ],
   "source": [
    "calcula_media(10,8,9)"
   ]
  },
  {
   "cell_type": "code",
   "execution_count": 10,
   "id": "6f06010d",
   "metadata": {},
   "outputs": [],
   "source": [
    "def calcula_media(*args , margem):\n",
    "    soma = sum(args)\n",
    "    media = soma / len(args)\n",
    "    return media + margem"
   ]
  },
  {
   "cell_type": "code",
   "execution_count": 12,
   "id": "271ee724",
   "metadata": {},
   "outputs": [
    {
     "ename": "TypeError",
     "evalue": "calcula_media() missing 1 required keyword-only argument: 'margem'",
     "output_type": "error",
     "traceback": [
      "\u001b[1;31m---------------------------------------------------------------------------\u001b[0m",
      "\u001b[1;31mTypeError\u001b[0m                                 Traceback (most recent call last)",
      "\u001b[1;32m<ipython-input-12-00bd2f3692a6>\u001b[0m in \u001b[0;36m<module>\u001b[1;34m\u001b[0m\n\u001b[1;32m----> 1\u001b[1;33m \u001b[0mcalcula_media\u001b[0m\u001b[1;33m(\u001b[0m\u001b[1;36m10\u001b[0m\u001b[1;33m,\u001b[0m\u001b[1;36m8\u001b[0m\u001b[1;33m,\u001b[0m\u001b[1;36m9\u001b[0m\u001b[1;33m,\u001b[0m\u001b[1;36m0.3\u001b[0m\u001b[1;33m)\u001b[0m\u001b[1;33m\u001b[0m\u001b[1;33m\u001b[0m\u001b[0m\n\u001b[0m",
      "\u001b[1;31mTypeError\u001b[0m: calcula_media() missing 1 required keyword-only argument: 'margem'"
     ]
    }
   ],
   "source": [
    "calcula_media(10,8,9,0.3)"
   ]
  },
  {
   "cell_type": "code",
   "execution_count": 13,
   "id": "8a0a10cd",
   "metadata": {},
   "outputs": [
    {
     "data": {
      "text/plain": [
       "9.3"
      ]
     },
     "execution_count": 13,
     "metadata": {},
     "output_type": "execute_result"
    }
   ],
   "source": [
    "calcula_media(10,8,9, margem = 0.3)"
   ]
  },
  {
   "cell_type": "code",
   "execution_count": 14,
   "id": "306cc90f",
   "metadata": {},
   "outputs": [],
   "source": [
    "def print_info(**kwargs):\n",
    "    print(kwargs, type(kwargs))"
   ]
  },
  {
   "cell_type": "code",
   "execution_count": 15,
   "id": "3649efd8",
   "metadata": {},
   "outputs": [
    {
     "name": "stdout",
     "output_type": "stream",
     "text": [
      "{'nome': 'Pietro', 'sobrenome': 'Ribeiro'} <class 'dict'>\n"
     ]
    }
   ],
   "source": [
    "print_info(nome = 'Pietro', sobrenome = 'Ribeiro') #todos os parametros precisam ser nomeados"
   ]
  },
  {
   "cell_type": "code",
   "execution_count": null,
   "id": "cd746865",
   "metadata": {},
   "outputs": [],
   "source": []
  },
  {
   "cell_type": "code",
   "execution_count": null,
   "id": "10ec148e",
   "metadata": {},
   "outputs": [],
   "source": []
  },
  {
   "cell_type": "code",
   "execution_count": null,
   "id": "cd75d7c0",
   "metadata": {},
   "outputs": [],
   "source": []
  },
  {
   "cell_type": "code",
   "execution_count": null,
   "id": "59e55ba7",
   "metadata": {},
   "outputs": [],
   "source": []
  },
  {
   "cell_type": "markdown",
   "id": "99d98ef5",
   "metadata": {},
   "source": [
    "# TEXTO DA AULA\n",
    "## Agrupando parâmetros\n",
    "Podemos utilizar o operador * - que, neste caso, não será uma multiplicação. Ao colocarmos o * ao lado do nome de um parâmetro na definição da função, estamos dizendo que aquele argumento será uma coleção. Mais especificamente, uma tupla. Porém, o usuário não irá passar uma tupla. Ele irá passar quantos argumentos ele quiser, e o Python automaticamente criará uma tupla com eles:"
   ]
  },
  {
   "cell_type": "code",
   "execution_count": 1,
   "id": "160f7735",
   "metadata": {},
   "outputs": [
    {
     "name": "stdout",
     "output_type": "stream",
     "text": [
      "O volume é:  100\n"
     ]
    }
   ],
   "source": [
    "def piscina(*infos):\n",
    "    vol = infos[0]*infos[1]*infos[2]\n",
    "    return vol\n",
    "\n",
    "volume = piscina(5, 4, 5)\n",
    "\n",
    "print('O volume é: ', volume)"
   ]
  },
  {
   "cell_type": "markdown",
   "id": "0a0e8c97",
   "metadata": {},
   "source": [
    "Podemos utilizar o operador * na chamada da função também. Na definição, o operador * indica que devemos agrupar itens avulsos em uma coleção. Na chamada, ele indica que uma coleção deve ser expandida em itens avulsos:"
   ]
  },
  {
   "cell_type": "code",
   "execution_count": 2,
   "id": "770aaf4c",
   "metadata": {},
   "outputs": [
    {
     "name": "stdout",
     "output_type": "stream",
     "text": [
      "O volume é:  100\n"
     ]
    }
   ],
   "source": [
    "def piscina(prof, largura, comprimento):\n",
    "    vol = prof*largura*comprimento\n",
    "    return vol\n",
    "\n",
    "lista = [5, 4, 5]\n",
    "\n",
    "volume = piscina(*lista)\n",
    "\n",
    "print('O volume é: ', volume)"
   ]
  },
  {
   "cell_type": "markdown",
   "id": "2fada096",
   "metadata": {},
   "source": [
    "## Parâmetros opcionais\n",
    "Outra possibilidade são funções com parâmetros opcionais. Note que isso é diferente de termos quantidade variável de parâmetros. No caso da quantidade variável, normalmente são diversos parâmetros com a mesma utilidade (números a serem somados, valores a serem exibidos etc), enquanto os parâmetros opcionais são informações distintas que podem ou não ser passadas para a função.\n",
    "\n",
    "Para criar parâmetros opcionais, usaremos **, e os parâmetros passados serão agrupados em um dicionário: o nome do parâmetro será uma chave, e o valor será... O valor."
   ]
  },
  {
   "cell_type": "code",
   "execution_count": 3,
   "id": "2ea7e8f6",
   "metadata": {},
   "outputs": [
    {
     "name": "stdout",
     "output_type": "stream",
     "text": [
      "O volume é:  100\n"
     ]
    }
   ],
   "source": [
    "def piscina(prof, **infos):\n",
    "    vol = prof*infos['largura']*infos['comprimento']\n",
    "    return vol\n",
    "\n",
    "volume = piscina(5, largura=4, comprimento=5)\n",
    "\n",
    "print('O volume é: ', volume)"
   ]
  },
  {
   "cell_type": "markdown",
   "id": "a2e03fc4",
   "metadata": {},
   "source": [
    "Analogamente ao caso dos parâmetros múltiplos, é possível que o usuário da função já tenha os dados organizados em um dicionário. Neste caso, basta usar ** na chamada da função para expandir o dicionário em vários parâmetros opcionais:\n"
   ]
  },
  {
   "cell_type": "code",
   "execution_count": 4,
   "id": "396cda11",
   "metadata": {},
   "outputs": [
    {
     "name": "stdout",
     "output_type": "stream",
     "text": [
      "O volume é:  1000\n"
     ]
    }
   ],
   "source": [
    "def piscina(prof, largura=4, comprimento=5):\n",
    "    vol = prof*largura*comprimento\n",
    "    return vol\n",
    "\n",
    "infos = {'largura': 10, 'comprimento': 20}\n",
    "\n",
    "volume = piscina(5, **infos)\n",
    "\n",
    "print('O volume é: ', volume)"
   ]
  }
 ],
 "metadata": {
  "kernelspec": {
   "display_name": "Python 3",
   "language": "python",
   "name": "python3"
  },
  "language_info": {
   "codemirror_mode": {
    "name": "ipython",
    "version": 3
   },
   "file_extension": ".py",
   "mimetype": "text/x-python",
   "name": "python",
   "nbconvert_exporter": "python",
   "pygments_lexer": "ipython3",
   "version": "3.9.6"
  }
 },
 "nbformat": 4,
 "nbformat_minor": 5
}
