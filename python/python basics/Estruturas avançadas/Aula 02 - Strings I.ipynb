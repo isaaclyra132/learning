{
 "cells": [
  {
   "cell_type": "markdown",
   "id": "ee8f4946",
   "metadata": {},
   "source": [
    "# Funções de strings"
   ]
  },
  {
   "cell_type": "code",
   "execution_count": 3,
   "id": "5692a13f",
   "metadata": {},
   "outputs": [
    {
     "ename": "SyntaxError",
     "evalue": "invalid syntax (<ipython-input-3-617166fbbe0b>, line 1)",
     "output_type": "error",
     "traceback": [
      "\u001b[1;36m  File \u001b[1;32m\"<ipython-input-3-617166fbbe0b>\"\u001b[1;36m, line \u001b[1;32m1\u001b[0m\n\u001b[1;33m    empresa = 'Let's code'\u001b[0m\n\u001b[1;37m                   ^\u001b[0m\n\u001b[1;31mSyntaxError\u001b[0m\u001b[1;31m:\u001b[0m invalid syntax\n"
     ]
    }
   ],
   "source": [
    "empresa = 'Let's code'"
   ]
  },
  {
   "cell_type": "code",
   "execution_count": 5,
   "id": "2f926228",
   "metadata": {},
   "outputs": [
    {
     "name": "stdout",
     "output_type": "stream",
     "text": [
      "Let's Code\n"
     ]
    }
   ],
   "source": [
    "empresa = \"Let's Code\"\n",
    "print(empresa)"
   ]
  },
  {
   "cell_type": "code",
   "execution_count": 6,
   "id": "e9abb53f",
   "metadata": {},
   "outputs": [
    {
     "name": "stdout",
     "output_type": "stream",
     "text": [
      "O professor Pietro da Let's Code disse: \"Hoje a pizza é por minha conta\"\n"
     ]
    }
   ],
   "source": [
    "frase = \"O professor Pietro da Let's Code disse: \\\"Hoje a pizza é por minha conta\\\"\" # '\\' é o caractere de escape \n",
    "print(frase)"
   ]
  },
  {
   "cell_type": "code",
   "execution_count": 7,
   "id": "26585c5b",
   "metadata": {},
   "outputs": [
    {
     "name": "stdout",
     "output_type": "stream",
     "text": [
      "G\n"
     ]
    }
   ],
   "source": [
    "empresa = 'Google'\n",
    "print(empresa[0])"
   ]
  },
  {
   "cell_type": "code",
   "execution_count": 8,
   "id": "e6db1f05",
   "metadata": {},
   "outputs": [
    {
     "name": "stdout",
     "output_type": "stream",
     "text": [
      "Goo\n"
     ]
    }
   ],
   "source": [
    "print(empresa[:3])"
   ]
  },
  {
   "cell_type": "markdown",
   "id": "d599325a",
   "metadata": {},
   "source": [
    "## Método Split"
   ]
  },
  {
   "cell_type": "code",
   "execution_count": 12,
   "id": "e3886b5a",
   "metadata": {},
   "outputs": [
    {
     "name": "stdout",
     "output_type": "stream",
     "text": [
      "['São Paulo', 'Belo Horizonte', 'Rio de Janeiro', 'Brasília']\n"
     ]
    }
   ],
   "source": [
    "nomes_cidades = \"São Paulo, Belo Horizonte, Rio de Janeiro, Brasília\"\n",
    "\n",
    "nomes_cidades = nomes_cidades.split(', ')\n",
    "\n",
    "print(nomes_cidades)"
   ]
  },
  {
   "cell_type": "markdown",
   "id": "9a144c67",
   "metadata": {},
   "source": [
    "## Método Strip (retira espaços)"
   ]
  },
  {
   "cell_type": "code",
   "execution_count": 14,
   "id": "780d78d0",
   "metadata": {},
   "outputs": [
    {
     "name": "stdout",
     "output_type": "stream",
     "text": [
      "MENU PRINCIPAL\n"
     ]
    }
   ],
   "source": [
    "cabecalho = \"               MENU PRINCIPAL         \"\n",
    "print(cabecalho.strip())"
   ]
  },
  {
   "cell_type": "markdown",
   "id": "7b60a7c2",
   "metadata": {},
   "source": [
    "## Métodos de Formatação de Strings"
   ]
  },
  {
   "cell_type": "code",
   "execution_count": 17,
   "id": "5880053e",
   "metadata": {},
   "outputs": [
    {
     "name": "stdout",
     "output_type": "stream",
     "text": [
      "Rio De Janeiro\n",
      "Rio de janeiro\n",
      "rio de janeiro\n",
      "RIO DE JANEIRO\n"
     ]
    }
   ],
   "source": [
    "nome_cidade = 'rIo DE jaNeirO'\n",
    "\n",
    "print(nome_cidade.title()) # Rio de Janeiro\n",
    "print(nome_cidade.capitalize()) # Rio de janeiro\n",
    "print(nome_cidade.lower()) # rio de janeiro\n",
    "print(nome_cidade.upper()) # RIO DE JANEIRO"
   ]
  },
  {
   "cell_type": "markdown",
   "id": "508c6c52",
   "metadata": {},
   "source": [
    "### Exemplo"
   ]
  },
  {
   "cell_type": "code",
   "execution_count": 18,
   "id": "933ed71d",
   "metadata": {},
   "outputs": [
    {
     "name": "stdout",
     "output_type": "stream",
     "text": [
      "Que cidade do Brasil é conhecida como cidade maravilhosa? Natal\n",
      "Tente de novo, vai \n",
      "Que cidade do Brasil é conhecida como cidade maravilhosa? rapariga\n",
      "Tente de novo, vai \n",
      "Que cidade do Brasil é conhecida como cidade maravilhosa? São Paulo\n",
      "Tente de novo, vai \n",
      "Que cidade do Brasil é conhecida como cidade maravilhosa? RIO DE JANEIRO\n",
      "Boooaa, campeão !!\n"
     ]
    }
   ],
   "source": [
    "nome_cidade = input('Que cidade do Brasil é conhecida como cidade maravilhosa? ')\n",
    "nome_cidade = nome_cidade.strip()\n",
    "while nome_cidade.lower() != 'rio de janeiro':\n",
    "    print('Tente de novo, vai ')\n",
    "    nome_cidade = input('Que cidade do Brasil é conhecida como cidade maravilhosa? ')\n",
    "\n",
    "print('Boooaa, campeão !!')"
   ]
  },
  {
   "cell_type": "markdown",
   "id": "de7532d8",
   "metadata": {},
   "source": []
  },
  {
   "cell_type": "code",
   "execution_count": 19,
   "id": "48a11014",
   "metadata": {},
   "outputs": [
    {
     "name": "stdout",
     "output_type": "stream",
     "text": [
      "True\n"
     ]
    }
   ],
   "source": [
    "mensagem = 'Você viu o que o Pietro disse na sala ontem? '\n",
    "fui_citado = 'Pietro' in mensagem\n",
    "print(fui_citado)"
   ]
  },
  {
   "cell_type": "code",
   "execution_count": 20,
   "id": "289b9b0e",
   "metadata": {},
   "outputs": [
    {
     "name": "stdout",
     "output_type": "stream",
     "text": [
      "False\n"
     ]
    }
   ],
   "source": [
    "mensagem = 'Você viu o que o Pietro disse na sala ontem? '\n",
    "fui_citado = 'Isaac' in mensagem\n",
    "print(fui_citado)"
   ]
  },
  {
   "cell_type": "markdown",
   "id": "8ecab09f",
   "metadata": {},
   "source": [
    "# TEXTO DA AULA\n",
    "## Funções de strings"
   ]
  },
  {
   "cell_type": "code",
   "execution_count": null,
   "id": "a7b02d8a",
   "metadata": {},
   "outputs": [],
   "source": [
    "#Suponhamos que temos a seguinte string:\n",
    "\n",
    "frase = 'uma FRASE'\n",
    "\n",
    "# Podemos acessar individualmente cada caractere em uma frase.\n",
    "# A ideia é a mesma de acessar uma lista:\n",
    "print(frase[0])\n",
    "print(frase[1])\n",
    "print(frase[2])\n",
    "\n",
    "tamanho = len(frase)\n",
    "print(\"A frase possui\", tamanho, \"caracteres\")\n",
    "\n",
    "# Porém, strings são imutáveis: não podemos alterar caracteres individuais\n",
    "# A linha abaixo, se for descomentada, dará erro no programa:\n",
    "# frase[4] = 'C'\n",
    "\n",
    "# Podemos converter strings para listas:\n",
    "listafrase = list(frase)\n",
    "print(listafrase)\n",
    "\n",
    "# A função join() intercala cada elemento de uma lista com uma string.\n",
    "stringfinal = '-py'.join(listafrase)\n",
    "print(stringfinal)\n",
    "\n",
    "# Usar um join() com uma string vazia é útil para transformar a lista de volta em string:\n",
    "stringfinal = ''.join(listafrase)\n",
    "print(stringfinal)\n",
    "\n",
    "# Existem algumas funções interessantes que retornam a string \"tratada\":\n",
    "s1 = frase.capitalize() # 1a letra maiúscula, restante minúscula\n",
    "s2 = frase.title() # todo início de palavra em maiúscula, resto minúscula\n",
    "s3 = frase.upper() # string inteira em maiúscula\n",
    "s4 = frase.lower() # string inteira em minúscula\n",
    "s5 = frase.replace('F', 'C') # substitui a primeira substring pela segunda\n",
    "\n",
    "print(s1)\n",
    "print(s2)\n",
    "print(s3)\n",
    "print(s4)\n",
    "print(s5)\n",
    "# Note que NENHUMA delas ALTERA a string original, elas sempre retornam a string nova.\n",
    "print('String original:', frase)\n",
    "\n",
    "# Outra possibilidade com strings é quebrar a string em uma lista de substrings sempre que o caractere especificado é encontrado, a string é quebrada\n",
    "quebra1 = frase.split(' ') # quebra a frase no caractere espaço em branco\n",
    "quebra2 = s3.split('A') # quebra a frase em maiúsculas no caractere 'A'\n",
    "\n",
    "print(quebra1)\n",
    "print(quebra2)\n",
    "\n",
    "# Podemos inserir quebras de linha com '\\n'\n",
    "frase = 'uma\\nFRASE'\n",
    "print(frase)\n",
    "# Podemos inserir tabulação com '\\t'\n",
    "frase = 'uma\\n\\tFRASE'\n",
    "print(frase)\n",
    "# Para conseguir representar a barra '\\', precisamos de 2 barras:\n",
    "frase = 'uma\\\\FRASE'"
   ]
  },
  {
   "cell_type": "code",
   "execution_count": null,
   "id": "f2e84514",
   "metadata": {},
   "outputs": [],
   "source": []
  }
 ],
 "metadata": {
  "kernelspec": {
   "display_name": "Python 3",
   "language": "python",
   "name": "python3"
  },
  "language_info": {
   "codemirror_mode": {
    "name": "ipython",
    "version": 3
   },
   "file_extension": ".py",
   "mimetype": "text/x-python",
   "name": "python",
   "nbconvert_exporter": "python",
   "pygments_lexer": "ipython3",
   "version": "3.9.6"
  }
 },
 "nbformat": 4,
 "nbformat_minor": 5
}
