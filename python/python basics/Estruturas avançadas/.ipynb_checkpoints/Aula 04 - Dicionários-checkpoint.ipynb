{
 "cells": [
  {
   "cell_type": "markdown",
   "id": "a7ec7b8f",
   "metadata": {},
   "source": [
    "# Dicionários"
   ]
  },
  {
   "cell_type": "code",
   "execution_count": 4,
   "id": "0cdb9698",
   "metadata": {},
   "outputs": [],
   "source": [
    "dados_cidade = {\n",
    "    'nome': 'São Paulo',\n",
    "    'estado': 'São Paulo',\n",
    "    'area_km2': 1521,\n",
    "    'populacao_milhoes': 12.18,\n",
    "}"
   ]
  },
  {
   "cell_type": "code",
   "execution_count": 5,
   "id": "5bf2eb69",
   "metadata": {},
   "outputs": [
    {
     "name": "stdout",
     "output_type": "stream",
     "text": [
      "<class 'dict'>\n"
     ]
    }
   ],
   "source": [
    "print(type(dados_cidade))"
   ]
  },
  {
   "cell_type": "code",
   "execution_count": 6,
   "id": "4acc902b",
   "metadata": {},
   "outputs": [
    {
     "name": "stdout",
     "output_type": "stream",
     "text": [
      "{'nome': 'São Paulo', 'estado': 'São Paulo', 'area_km2': 1521, 'populacao_milhoes': 12.18}\n"
     ]
    }
   ],
   "source": [
    "print(dados_cidades)"
   ]
  },
  {
   "cell_type": "code",
   "execution_count": 7,
   "id": "2b0ce40f",
   "metadata": {},
   "outputs": [],
   "source": [
    "dados_cidade['pais'] = 'Brasil'"
   ]
  },
  {
   "cell_type": "code",
   "execution_count": 8,
   "id": "ce391c47",
   "metadata": {},
   "outputs": [
    {
     "name": "stdout",
     "output_type": "stream",
     "text": [
      "{'nome': 'São Paulo', 'estado': 'São Paulo', 'area_km2': 1521, 'populacao_milhoes': 12.18, 'pais': 'Brasil'}\n"
     ]
    }
   ],
   "source": [
    "print(dados_cidade)"
   ]
  },
  {
   "cell_type": "code",
   "execution_count": 9,
   "id": "d32b6b2d",
   "metadata": {},
   "outputs": [
    {
     "name": "stdout",
     "output_type": "stream",
     "text": [
      "São Paulo\n"
     ]
    }
   ],
   "source": [
    "print(dados_cidade['nome'])"
   ]
  },
  {
   "cell_type": "code",
   "execution_count": 11,
   "id": "2c2860f6",
   "metadata": {},
   "outputs": [
    {
     "name": "stdout",
     "output_type": "stream",
     "text": [
      "{'nome': 'São Paulo', 'estado': 'São Paulo', 'area_km2': 1500, 'populacao_milhoes': 12.18, 'pais': 'Brasil'}\n"
     ]
    }
   ],
   "source": [
    "dados_cidade['area_km2'] = 1500\n",
    "print(dados_cidade)"
   ]
  },
  {
   "cell_type": "code",
   "execution_count": 12,
   "id": "37bf6d1e",
   "metadata": {},
   "outputs": [],
   "source": [
    "dados_cidade_2 = dados_cidade"
   ]
  },
  {
   "cell_type": "code",
   "execution_count": 13,
   "id": "85505195",
   "metadata": {},
   "outputs": [],
   "source": [
    "dados_cidade_2['nome'] = 'Santos'"
   ]
  },
  {
   "cell_type": "code",
   "execution_count": 14,
   "id": "5228025d",
   "metadata": {},
   "outputs": [
    {
     "name": "stdout",
     "output_type": "stream",
     "text": [
      "{'nome': 'Santos', 'estado': 'São Paulo', 'area_km2': 1500, 'populacao_milhoes': 12.18, 'pais': 'Brasil'}\n"
     ]
    }
   ],
   "source": [
    "print(dados_cidade_2)"
   ]
  },
  {
   "cell_type": "code",
   "execution_count": 16,
   "id": "c4146430",
   "metadata": {},
   "outputs": [
    {
     "name": "stdout",
     "output_type": "stream",
     "text": [
      "{'nome': 'Santos', 'estado': 'São Paulo', 'area_km2': 1500, 'populacao_milhoes': 12.18, 'pais': 'Brasil'}\n"
     ]
    }
   ],
   "source": [
    "print(dados_cidade)"
   ]
  },
  {
   "cell_type": "code",
   "execution_count": 17,
   "id": "1321ddab",
   "metadata": {},
   "outputs": [],
   "source": [
    "dados_cidade_3 = dados_cidade.copy()"
   ]
  },
  {
   "cell_type": "code",
   "execution_count": 19,
   "id": "fc59e413",
   "metadata": {},
   "outputs": [],
   "source": [
    "dados_cidade_3['estado'] = 'Rio de Janeiro'"
   ]
  },
  {
   "cell_type": "code",
   "execution_count": 21,
   "id": "cf4a688c",
   "metadata": {},
   "outputs": [
    {
     "name": "stdout",
     "output_type": "stream",
     "text": [
      "{'nome': 'Santos', 'estado': 'São Paulo', 'area_km2': 1500, 'populacao_milhoes': 12.18, 'pais': 'Brasil'}\n"
     ]
    }
   ],
   "source": [
    "print(dados_cidade)"
   ]
  },
  {
   "cell_type": "code",
   "execution_count": 24,
   "id": "653aa3f3",
   "metadata": {},
   "outputs": [
    {
     "name": "stdout",
     "output_type": "stream",
     "text": [
      "{'nome': 'Santos', 'estado': 'São Paulo', 'area_km2': 1500, 'populacao_milhoes': 15, 'pais': 'Brasil', 'fundacao': '25/01/1554'}\n"
     ]
    }
   ],
   "source": [
    "novos_dados = {\n",
    "    'populacao_milhoes': 15,\n",
    "    'fundacao': '25/01/1554',\n",
    "}\n",
    "\n",
    "dados_cidade.update(novos_dados)\n",
    "print(dados_cidade)"
   ]
  },
  {
   "cell_type": "code",
   "execution_count": 25,
   "id": "d53d0fe0",
   "metadata": {},
   "outputs": [
    {
     "ename": "KeyError",
     "evalue": "'prefeito'",
     "output_type": "error",
     "traceback": [
      "\u001b[1;31m---------------------------------------------------------------------------\u001b[0m",
      "\u001b[1;31mKeyError\u001b[0m                                  Traceback (most recent call last)",
      "\u001b[1;32m<ipython-input-25-93c4526f8562>\u001b[0m in \u001b[0;36m<module>\u001b[1;34m\u001b[0m\n\u001b[1;32m----> 1\u001b[1;33m \u001b[0mdados_cidade\u001b[0m\u001b[1;33m[\u001b[0m\u001b[1;34m'prefeito'\u001b[0m\u001b[1;33m]\u001b[0m\u001b[1;33m\u001b[0m\u001b[1;33m\u001b[0m\u001b[0m\n\u001b[0m",
      "\u001b[1;31mKeyError\u001b[0m: 'prefeito'"
     ]
    }
   ],
   "source": [
    "dados_cidade['prefeito']"
   ]
  },
  {
   "cell_type": "code",
   "execution_count": 27,
   "id": "d65f3891",
   "metadata": {},
   "outputs": [
    {
     "name": "stdout",
     "output_type": "stream",
     "text": [
      "None\n"
     ]
    }
   ],
   "source": [
    "print(dados_cidade.get('prefeito'))"
   ]
  },
  {
   "cell_type": "code",
   "execution_count": 28,
   "id": "190abece",
   "metadata": {},
   "outputs": [
    {
     "name": "stdout",
     "output_type": "stream",
     "text": [
      "dict_keys(['nome', 'estado', 'area_km2', 'populacao_milhoes', 'pais', 'fundacao'])\n",
      "----\n",
      "dict_values(['Santos', 'São Paulo', 1500, 15, 'Brasil', '25/01/1554'])\n",
      "----\n",
      "dict_items([('nome', 'Santos'), ('estado', 'São Paulo'), ('area_km2', 1500), ('populacao_milhoes', 15), ('pais', 'Brasil'), ('fundacao', '25/01/1554')])\n"
     ]
    }
   ],
   "source": [
    "print(dados_cidade.keys()) # retorna uma lista de chaves de um dicionario\n",
    "print('----')\n",
    "print(dados_cidade.values()) # retorna uma lista de valores de um dicionário\n",
    "print('----')\n",
    "print(dados_cidade.items()) # retorna uma lista de tuplas (chave,valor) de um dicionário"
   ]
  },
  {
   "cell_type": "markdown",
   "id": "4314d85d",
   "metadata": {},
   "source": [
    "# TEXTO DA AULA\n",
    "## Dicionários\n",
    "Um dicionário é uma coleção, assim como as listas e as tuplas. Porém, enquanto as tuplas eram indexadas por um índice, os dicionários são indexados por chaves. Todo elemento em um dicionário possui uma chave e um valor. Chaves tipicamente são strings, valores podem ser qualquer tipo de dado."
   ]
  },
  {
   "cell_type": "code",
   "execution_count": 1,
   "id": "23f88f5e",
   "metadata": {},
   "outputs": [
    {
     "name": "stdout",
     "output_type": "stream",
     "text": [
      "{'cat': 'gato', 'dog': 'cachorro', 'mouse': 'rato'}\n",
      "<class 'dict'>\n",
      "{'cat': 'gato', 'dog': 'cão', 'mouse': 'rato'}\n",
      "{'Curso': 'Python Pro', 'Linguagem': 'Python', 'Módulo': 2}\n",
      "cat existe!\n",
      "dict_keys(['cat', 'dog', 'mouse'])\n",
      "dict_values(['gato', 'cão', 'rato'])\n",
      "dict_items([('cat', 'gato'), ('dog', 'cão'), ('mouse', 'rato')])\n"
     ]
    }
   ],
   "source": [
    "# O dicionário é definido pelos símbolos { e }\n",
    "\n",
    "dicionario = {}\n",
    "\n",
    "# O dicionário não possui um \"append\".\n",
    "# Adicionamos valores diretamente:\n",
    "\n",
    "dicionario['cat'] = 'gato'\n",
    "dicionario['dog'] = 'cachorro'\n",
    "dicionario['mouse'] = 'rato'\n",
    "\n",
    "print(dicionario)\n",
    "print(type(dicionario))\n",
    "\n",
    "'''\n",
    "Saída:\n",
    "{'cat': 'gato', 'dog': 'cachorro', 'mouse': 'rato'}\n",
    "<class 'dict'>\n",
    "'''\n",
    "\n",
    "# Dicionários, assim como as listas, são mutáveis:\n",
    "dicionario['dog'] = 'cão'\n",
    "print(dicionario)\n",
    "# Saída: {'cat': 'gato', 'dog': 'cão', 'mouse': 'rato'}\n",
    "\n",
    "# Podemos criar o dicionário diretamente também:\n",
    "dicionario2 = {'Curso': 'Python Pro', 'Linguagem':'Python', 'Módulo':2}\n",
    "print(dicionario2)\n",
    "# Saída: {'Curso': 'Python Pro', 'Linguagem': 'Python', 'Módulo': 2}\n",
    "\n",
    "# Podemos utilizar o operador \"in\" para verificar se uma chave existe:\n",
    "if 'cat' in dicionario:\n",
    "    print('cat existe!') # Sim\n",
    "if 'bird' in dicionario:\n",
    "    print('bird existe!') # Não\n",
    "if 'gato' in dicionario:\n",
    "    print('gato existe!') # Não\n",
    "\n",
    "'''\n",
    "Também podemos utilizar as funções .keys() e .values() para obter listas\n",
    "com apenas as chaves ou apenas os valores do dicionário.\n",
    "'''\n",
    "chaves = dicionario.keys()\n",
    "print(chaves)\n",
    "# Saída: dict_keys(['cat', 'dog', 'mouse'])\n",
    "\n",
    "valores = dicionario.values()\n",
    "print(valores)\n",
    "# Saída:dict_values(['gato', 'cão', 'rato'])\n",
    "\n",
    "# Já a função .items(), retorna uma lista de tuplas (chave, valor) de um dicionário\n",
    "\n",
    "itens = dicionario.items()\n",
    "print(itens)\n",
    "# Saída:dict_items([('cat', 'gato'), ('dog', 'cão'), ('mouse', 'rato')])"
   ]
  }
 ],
 "metadata": {
  "kernelspec": {
   "display_name": "Python 3",
   "language": "python",
   "name": "python3"
  },
  "language_info": {
   "codemirror_mode": {
    "name": "ipython",
    "version": 3
   },
   "file_extension": ".py",
   "mimetype": "text/x-python",
   "name": "python",
   "nbconvert_exporter": "python",
   "pygments_lexer": "ipython3",
   "version": "3.9.6"
  }
 },
 "nbformat": 4,
 "nbformat_minor": 5
}
