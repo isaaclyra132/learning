{
 "cells": [
  {
   "cell_type": "code",
   "execution_count": null,
   "id": "e345f903",
   "metadata": {},
   "outputs": [],
   "source": []
  },
  {
   "cell_type": "code",
   "execution_count": null,
   "id": "3388f40d",
   "metadata": {},
   "outputs": [],
   "source": []
  },
  {
   "cell_type": "code",
   "execution_count": null,
   "id": "ae475820",
   "metadata": {},
   "outputs": [],
   "source": []
  },
  {
   "cell_type": "code",
   "execution_count": null,
   "id": "f12599e9",
   "metadata": {},
   "outputs": [],
   "source": []
  },
  {
   "cell_type": "code",
   "execution_count": null,
   "id": "c0853dd7",
   "metadata": {},
   "outputs": [],
   "source": []
  },
  {
   "cell_type": "markdown",
   "id": "b615d854",
   "metadata": {},
   "source": [
    "# TEXTO DA AULA\n",
    "\n",
    "<!-- [Text](link) -->\n",
    "[Clique aqui](https://s3-sa-east-1.amazonaws.com/lcpi/9653c5a5-9a32-49b2-86b2-0e527bbbdc12.txt \"Optional Title\") para acessar o arquivo dom_casmurro_cap_1.txt (clique com o botão direito do mouse e depois em \"Salvar link como\").\n",
    "\n",
    "## Arquivos em Python\n",
    "O Python possui algumas funções prontas para manipular arquivos binários puros (onde, conhecendo a estrutura interna de qualquer formato, podemos salvar qualquer tipo de arquivo) e para manipular arquivos de texto (onde os binários são decodificados como strings).\n",
    "\n",
    "Focaremos no básico de manipulação de arquivo de texto, pois, na prática, quando formos trabalhar com arquivos mais complexos, é provável que usaremos bibliotecas específicas para lidar com eles, e elas já terão funções próprias para ler e salvar esses arquivos da maneira correta.\n",
    "\n",
    "## Abrindo e fechando arquivos\n",
    "Podemos criar arquivos novos ou abrir arquivos já existentes utilizando a função open. Ela possui 2 argumentos: o caminho do arquivo e o modo de operação.\n",
    "\n",
    "| Modo |\tSímbolo |\tDescrição |\n",
    "|------ | ------- |------ |\n",
    "| read |\tr\t| lê um arquivo existente |\n",
    "|write |\tw\t| cria um novo arquivo |\n",
    "|append |\ta\t| abre um arquivo existente para adicionar informações ao seu final |\n",
    "| update |\t+\t| ao ser combinado com outros modos, permite alteração de arquivo já existente (ex: r+ abre um arquivo existente e permite modificá-lo) |\n",
    "\n",
    "Após abrirmos (ou criarmos) um arquivo, podemos realizar diversas operações. Ao final de todas elas, devemos fechar o nosso arquivo usando a função close. Essa etapa é importante por 2 motivos:\n",
    "\n",
    "1. Se alteramos o arquivo mas não o fechamos, as alterações não serão salvas;\n",
    "2. Se esquecemos de fechar um arquivo, outros programas podem ter problemas ao acessá-lo.\n",
    "\n",
    "## Roteiro básico\n",
    "Vamos seguir os seguintes passos para manipular nossos arquivos:\n",
    "\n",
    "1. Abrir ou criar um arquivo:"
   ]
  },
  {
   "cell_type": "code",
   "execution_count": null,
   "id": "374f2851",
   "metadata": {},
   "outputs": [],
   "source": [
    "arquivocriado = open(\"criado.txt\", \"w\")"
   ]
  },
  {
   "cell_type": "markdown",
   "id": "3dd118d0",
   "metadata": {},
   "source": [
    "A linha de comando acima abre (ou cria se não existe) um arquivo chamado \"criado.txt\" para escrita (\"w\", de write) e guarda na variável \"arquivocriado\" as informações para manipulá-lo."
   ]
  },
  {
   "cell_type": "code",
   "execution_count": null,
   "id": "43fff867",
   "metadata": {},
   "outputs": [],
   "source": [
    "arquivolido = open(\"teste.txt\", \"r\")"
   ]
  },
  {
   "cell_type": "markdown",
   "id": "ce804499",
   "metadata": {},
   "source": [
    "A linha acima lê (\"r\", de read) um arquivo já existente chamado \"teste.txt\" e guarda na variável \"arquivolido\" as informações para manipulá-lo.\n",
    "\n",
    "2. Carregar os dados do arquivo (leitura)"
   ]
  },
  {
   "cell_type": "code",
   "execution_count": null,
   "id": "662865ce",
   "metadata": {},
   "outputs": [],
   "source": [
    "dados = arquivolido.read()\n",
    "print(dados)"
   ]
  },
  {
   "cell_type": "markdown",
   "id": "f27f1954",
   "metadata": {},
   "source": [
    "A função read() retorna todo o conteúdo do arquivo como uma string.\n",
    "\n",
    "Precisamos carregar o conteúdo do arquivo em algum formato que sabemos trabalhar. A read() carrega o conteúdo de um arquivo de texto em uma string.\n",
    "\n",
    "3. Manipular os dados do arquivo (escrita)"
   ]
  },
  {
   "cell_type": "code",
   "execution_count": null,
   "id": "2c7cd3ea",
   "metadata": {},
   "outputs": [],
   "source": [
    "arquivocriado.write(\"linha 1\")\n",
    "arquivocriado.write(\"linha 2\")\n",
    "arquivocriado.write(\"linha 3\")"
   ]
  },
  {
   "cell_type": "markdown",
   "id": "0b8ecbf4",
   "metadata": {},
   "source": [
    "Em casos mais complexos, iremos manipular o conteudo LIDO no passo anterior para posteriormente reescrevê-lo. Em outros mais simples, podemos escrever diretamente no arquivo.\n",
    "\n",
    "4. Fechar o arquivo"
   ]
  },
  {
   "cell_type": "code",
   "execution_count": null,
   "id": "496dc8ea",
   "metadata": {},
   "outputs": [],
   "source": [
    "arquivocriado.close()\n",
    "arquivolido.close()"
   ]
  },
  {
   "cell_type": "markdown",
   "id": "f3f1a8e8",
   "metadata": {},
   "source": [
    "Essa etapa é muito importante para garantir a integridade dos novos dados no arquivo. As modificações são salvas somente ao fechar o arquivo.\n",
    "\n",
    "## Comando with\n",
    "Um jeito mais inteligente de se trabalhar com arquivos é utilizar a sintaxe do \"with\". Ele garante que após a finalização do bloco, o arquivo será fechado."
   ]
  },
  {
   "cell_type": "code",
   "execution_count": null,
   "id": "1c6a055a",
   "metadata": {},
   "outputs": [],
   "source": [
    "with open('teste.txt', 'r') as arquivolido:\n",
    "   dados = arquivolido.read()\n",
    "   print(dados)"
   ]
  },
  {
   "cell_type": "markdown",
   "id": "38d118bc",
   "metadata": {},
   "source": [
    "É possível ler o arquivo linha a linha, como no exemplo:"
   ]
  },
  {
   "cell_type": "code",
   "execution_count": null,
   "id": "f594d446",
   "metadata": {},
   "outputs": [],
   "source": [
    "with open('teste.txt', 'r') as arquivolido:\n",
    "   linha = arquivolido.readline()\n",
    "   while linha != '':\n",
    "       print(linha, end='')\n",
    "       linha = arquivolido.readline()\n",
    "\n",
    "\n",
    "# OU\n",
    "\n",
    "with open('teste.txt', 'r') as arquivolido:\n",
    "    for linha in arquivolido:\n",
    "        print(linha, end='')"
   ]
  },
  {
   "cell_type": "markdown",
   "id": "5e28a47b",
   "metadata": {},
   "source": [
    "O mesmo pode ser feito para escrever no arquivo:"
   ]
  },
  {
   "cell_type": "code",
   "execution_count": null,
   "id": "2aa02f45",
   "metadata": {},
   "outputs": [],
   "source": [
    "with open('teste.txt', 'r') as arquivolido:\n",
    "    with open('copiateste.txt', 'w') as arquivocriado:\n",
    "        for linha in arquivolido:\n",
    "            arquivocriado.write(linha)"
   ]
  },
  {
   "cell_type": "markdown",
   "id": "cd8a4d10",
   "metadata": {},
   "source": [
    "No comando acima, as linhas do arquivo \"teste.txt\" são copiadas e salvas no arquivo \"copiateste.txt\"."
   ]
  }
 ],
 "metadata": {
  "kernelspec": {
   "display_name": "Python 3",
   "language": "python",
   "name": "python3"
  },
  "language_info": {
   "codemirror_mode": {
    "name": "ipython",
    "version": 3
   },
   "file_extension": ".py",
   "mimetype": "text/x-python",
   "name": "python",
   "nbconvert_exporter": "python",
   "pygments_lexer": "ipython3",
   "version": "3.9.6"
  }
 },
 "nbformat": 4,
 "nbformat_minor": 5
}
