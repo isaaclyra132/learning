{
 "cells": [
  {
   "cell_type": "markdown",
   "id": "02307af3",
   "metadata": {},
   "source": [
    "# API"
   ]
  },
  {
   "cell_type": "code",
   "execution_count": 3,
   "id": "5671e4c9",
   "metadata": {},
   "outputs": [
    {
     "name": "stdout",
     "output_type": "stream",
     "text": [
      "Requirement already satisfied: requests in c:\\users\\isaac de lyra\\appdata\\local\\programs\\python\\python39\\lib\\site-packages (2.25.1)\n",
      "Requirement already satisfied: certifi>=2017.4.17 in c:\\users\\isaac de lyra\\appdata\\local\\programs\\python\\python39\\lib\\site-packages (from requests) (2020.12.5)\n",
      "Requirement already satisfied: urllib3<1.27,>=1.21.1 in c:\\users\\isaac de lyra\\appdata\\local\\programs\\python\\python39\\lib\\site-packages (from requests) (1.26.4)\n",
      "Requirement already satisfied: chardet<5,>=3.0.2 in c:\\users\\isaac de lyra\\appdata\\local\\programs\\python\\python39\\lib\\site-packages (from requests) (4.0.0)\n",
      "Requirement already satisfied: idna<3,>=2.5 in c:\\users\\isaac de lyra\\appdata\\local\\programs\\python\\python39\\lib\\site-packages (from requests) (2.10)\n"
     ]
    }
   ],
   "source": [
    "!pip install requests"
   ]
  },
  {
   "cell_type": "code",
   "execution_count": 4,
   "id": "d95b382e",
   "metadata": {},
   "outputs": [],
   "source": [
    "import requests"
   ]
  },
  {
   "cell_type": "code",
   "execution_count": 7,
   "id": "30c7cbdb",
   "metadata": {},
   "outputs": [
    {
     "name": "stdout",
     "output_type": "stream",
     "text": [
      "200\n"
     ]
    }
   ],
   "source": [
    "url = 'https://api.exchangerate-api.com/v6/latest'\n",
    "\n",
    "req = requests.get(url)\n",
    "\n",
    "print(req.status_code)"
   ]
  },
  {
   "cell_type": "code",
   "execution_count": 8,
   "id": "e767f114",
   "metadata": {},
   "outputs": [
    {
     "name": "stdout",
     "output_type": "stream",
     "text": [
      "{'result': 'success', 'provider': 'https://www.exchangerate-api.com', 'documentation': 'https://www.exchangerate-api.com/docs/free', 'WARNING_NEW_ENDPOINT': 'Swap *api.exchangerate-api.com* with *open.er-api.com* for better servers!', 'terms_of_use': 'https://www.exchangerate-api.com/terms', 'time_last_update_unix': 1627603351, 'time_last_update_utc': 'Fri, 30 Jul 2021 00:02:31 +0000', 'time_next_update_unix': 1627691021, 'time_next_update_utc': 'Sat, 31 Jul 2021 00:23:41 +0000', 'time_eol_unix': 0, 'base_code': 'USD', 'rates': {'USD': 1, 'AED': 3.67, 'AFN': 79.86, 'ALL': 102.85, 'AMD': 485.36, 'ANG': 1.79, 'AOA': 644.58, 'ARS': 96.63, 'AUD': 1.35, 'AWG': 1.79, 'AZN': 1.7, 'BAM': 1.64, 'BBD': 2, 'BDT': 84.78, 'BGN': 1.64, 'BHD': 0.376, 'BIF': 1973.9, 'BMD': 1, 'BND': 1.35, 'BOB': 6.88, 'BRL': 5.1, 'BSD': 1, 'BTN': 74.28, 'BWP': 11.09, 'BYN': 2.51, 'BZD': 2, 'CAD': 1.25, 'CDF': 1986.62, 'CHF': 0.908, 'CLP': 763.43, 'CNY': 6.47, 'COP': 3867.48, 'CRC': 619.1, 'CUC': 1, 'CUP': 25.75, 'CVE': 92.55, 'CZK': 21.53, 'DJF': 177.72, 'DKK': 6.26, 'DOP': 56.86, 'DZD': 134.75, 'EGP': 15.71, 'ERN': 15, 'ETB': 44.35, 'EUR': 0.84, 'FJD': 2.08, 'FKP': 0.716, 'FOK': 6.26, 'GBP': 0.716, 'GEL': 3.11, 'GGP': 0.716, 'GHS': 5.97, 'GIP': 0.716, 'GMD': 51.86, 'GNF': 9773.36, 'GTQ': 7.74, 'GYD': 209.08, 'HKD': 7.77, 'HNL': 23.68, 'HRK': 6.32, 'HTG': 95.2, 'HUF': 302.77, 'IDR': 14550.16, 'ILS': 3.26, 'IMP': 0.716, 'INR': 74.28, 'IQD': 1457.94, 'IRR': 41937.7, 'ISK': 124.35, 'JMD': 155.11, 'JOD': 0.709, 'JPY': 109.67, 'KES': 108.53, 'KGS': 84.44, 'KHR': 4068.83, 'KID': 1.35, 'KMF': 412.91, 'KRW': 1147.37, 'KWD': 0.3, 'KYD': 0.833, 'KZT': 424.99, 'LAK': 9499.68, 'LBP': 1507.5, 'LKR': 199.21, 'LRD': 171.61, 'LSL': 14.6, 'LYD': 4.52, 'MAD': 8.92, 'MDL': 17.94, 'MGA': 3809.83, 'MKD': 52.1, 'MMK': 1645.47, 'MNT': 2847.58, 'MOP': 8.01, 'MRU': 36.12, 'MUR': 42.81, 'MVR': 15.44, 'MWK': 810.97, 'MXN': 19.87, 'MYR': 4.23, 'MZN': 63.88, 'NAD': 14.6, 'NGN': 424.25, 'NIO': 35.25, 'NOK': 8.76, 'NPR': 118.85, 'NZD': 1.43, 'OMR': 0.384, 'PAB': 1, 'PEN': 3.92, 'PGK': 3.51, 'PHP': 50.28, 'PKR': 162.01, 'PLN': 3.86, 'PYG': 6933.75, 'QAR': 3.64, 'RON': 4.14, 'RSD': 99.13, 'RUB': 73.29, 'RWF': 1006.02, 'SAR': 3.75, 'SBD': 7.94, 'SCR': 15.58, 'SDG': 447.1, 'SEK': 8.57, 'SGD': 1.35, 'SHP': 0.716, 'SLL': 10263.32, 'SOS': 578.15, 'SRD': 21.33, 'SSP': 177.64, 'STN': 20.56, 'SYP': 1473.24, 'SZL': 14.6, 'THB': 32.88, 'TJS': 11.34, 'TMT': 3.5, 'TND': 2.77, 'TOP': 2.24, 'TRY': 8.49, 'TTD': 6.78, 'TVD': 1.35, 'TWD': 27.92, 'TZS': 2316.17, 'UAH': 26.85, 'UGX': 3547.45, 'UYU': 43.67, 'UZS': 10730.25, 'VES': 3978505.72, 'VND': 22884.61, 'VUV': 111.48, 'WST': 2.56, 'XAF': 550.54, 'XCD': 2.7, 'XDR': 0.701, 'XOF': 550.54, 'XPF': 100.16, 'YER': 250.39, 'ZAR': 14.6, 'ZMW': 19.21}}\n"
     ]
    }
   ],
   "source": [
    "dados = req.json()\n",
    "\n",
    "print(dados)"
   ]
  },
  {
   "cell_type": "code",
   "execution_count": 9,
   "id": "cdd2141d",
   "metadata": {},
   "outputs": [
    {
     "name": "stdout",
     "output_type": "stream",
     "text": [
      "Informe o valor em R$ a ser convertido\n",
      "100\n",
      "R$100.0 em dólar valem US$19.61\n"
     ]
    }
   ],
   "source": [
    "valor_reais = float(input('Informe o valor em R$ a ser convertido\\n'))\n",
    "cotacao = dados['rates']['BRL']\n",
    "print(f'R${valor_reais} em dólar valem US${(valor_reais/cotacao):.2f}')"
   ]
  },
  {
   "cell_type": "markdown",
   "id": "0921ec9b",
   "metadata": {},
   "source": [
    "# TEXTO DA AULA\n",
    "\n",
    "<!-- [Text](link) -->\n",
    "[Clique aqui](https://www.exchangerate-api.com/docs/free-exchange-rate-api \"Optional Title\") para acessar a documentação da Exchange Rate API.\n",
    "\n",
    "## Application Programming Interface\n",
    "Hoje em dia é muito comum que diferentes aplicações consumam dados pela internet, muitas vezes dados providenciados por terceiros. Por exemplo, um aplicativo de entrega de alimentos pode usar dados de geolocalização do Google para localizar restaurantes próximos ao usuário e exibir a rota percorrida pelo entregador.\n",
    "\n",
    "Como as aplicações podem rodar em diferentes plataformas (Windows, Android, MacOS, iOS, um navegador de internet...), é importante estabelecer uma linguagem comum para que todos consigam consumir esses dados.\n",
    "\n",
    "Essa \"linguagem comum\" é o que chamamos de API: Application Programming Interface. A organização que disponibiliza os dados estabelece algumas \"regrinhas\" para fazermos requisições, e em contrapartida ela garante que os recursos fornecidos também seguirão certos padrões, facilitando a vida dos programadores.\n",
    "\n",
    "Portanto, quando decidimos utilizar uma API, a primeira coisa que precisamos fazer é estudar sua documentação. Vejamos alguns dos pontos mais relevantes para procurar.\n",
    "\n",
    "Todos os exemplos de requisição que mostraremos aqui podem ser colados em seu navegador ou estudados usando um requests.get no Python e imprimindo seu campo text.\n",
    "\n",
    "### URI base\n",
    "\n",
    "Várias APIs fornecem um \"endereço base\". Todas as suas requisições incluirão esse endereço, e ao final dele nós colocamos detalhes específicos para cada um dos recursos disponíveis.\n",
    "\n",
    "Por exemplo, na AlphaVantage (https://www.alphavantage.co/), uma API de dados de bolsas de valores e criptomoedas, a URI base é:\n",
    "\n",
    "https://www.alphavantage.co/query?\n",
    "\n",
    "Após a interrogação nós colocaremos os campos para nossa consulta. Por exemplo, para fazer uma consulta sem autenticação para valores da IBM, de 5 em 5 minutos, o endereço completo fica:\n",
    "\n",
    "https://www.alphavantage.co/query?function=TIME_SERIES_INTRADAY&symbol=IBM&interval=5min&apikey=demo\n",
    "\n",
    "Note o formato com &NomeDoCampo=ValorDoCampo. Ele é bastante comum. Outro formato bastante comum é o de \"subdiretórios\".\n",
    "\n",
    "Um exemplo é a PokéAPI. A URI base é:\n",
    "\n",
    "https://pokeapi.co/api/v2/\n",
    "\n",
    "Para procurar por pokémons, adicionamos pokemon/. Em seguida, podemos colocar números (índices) ou nomes de Pokémon, como:\n",
    "\n",
    "https://pokeapi.co/api/v2/pokemon/ditto/\n",
    "\n",
    "https://pokeapi.co/api/v2/pokemon/25\n",
    "\n",
    "Se ao invés de pokémons estivéssemos interessados em tipos de pokémon, usaríamos types/ e o nome ou índice do tipo desejado:\n",
    "\n",
    "https://pokeapi.co/api/v2/type/ghost\n",
    "\n",
    "### Formato\n",
    "### Tipo de dado\n",
    "Algumas APIs possuem formatos fixos de dados. Outros permitem que você escolha. É comum, por exemplo, que uma API permita que você escolha entre JSON, XML, CSV e/ou outros formatos.\n",
    "\n",
    "Caso você tenha entrado no AlphaVantage e se registrado para obter uma chave (falaremos mais adiante), você pode especificar, por exemplo, que gostaria de resultados no formato CSV:\n",
    "\n",
    "https://www.alphavantage.co/query?function=TIME_SERIES_INTRADAY&symbol=IBM&interval=5min&dataformat=csv&apikey=demo\n",
    "\n",
    "Substitua \"demo\" por sua chave no exemplo acima e ele funcionará.\n",
    "\n",
    "### Schema\n",
    "É bastante comum que as APIs disponibilizem um \"modelo\" genérico de como será formatado o seu JSON, XML etc para que os desenvolvedores saibam quais campos esperar e quais tipos de dados serão possíveis para cada campo. Por exemplo:"
   ]
  },
  {
   "cell_type": "code",
   "execution_count": 1,
   "id": "ee00ea43",
   "metadata": {},
   "outputs": [
    {
     "ename": "NameError",
     "evalue": "name 'string' is not defined",
     "output_type": "error",
     "traceback": [
      "\u001b[1;31m---------------------------------------------------------------------------\u001b[0m",
      "\u001b[1;31mNameError\u001b[0m                                 Traceback (most recent call last)",
      "\u001b[1;32m<ipython-input-1-5ed296989c3b>\u001b[0m in \u001b[0;36m<module>\u001b[1;34m\u001b[0m\n\u001b[0;32m      1\u001b[0m {\n\u001b[1;32m----> 2\u001b[1;33m     \u001b[1;34m'nome'\u001b[0m\u001b[1;33m:\u001b[0m\u001b[0mstring\u001b[0m\u001b[1;33m,\u001b[0m\u001b[1;33m\u001b[0m\u001b[1;33m\u001b[0m\u001b[0m\n\u001b[0m\u001b[0;32m      3\u001b[0m     \u001b[1;34m'pontuacao'\u001b[0m\u001b[1;33m:\u001b[0m\u001b[0minteger\u001b[0m\u001b[1;33m\u001b[0m\u001b[1;33m\u001b[0m\u001b[0m\n\u001b[0;32m      4\u001b[0m }\n",
      "\u001b[1;31mNameError\u001b[0m: name 'string' is not defined"
     ]
    }
   ],
   "source": [
    "{\n",
    "    'nome':string,\n",
    "    'pontuacao':integer\n",
    "}"
   ]
  },
  {
   "cell_type": "markdown",
   "id": "69efcc40",
   "metadata": {},
   "source": [
    "### Autenticação\n",
    "Outro aspecto importante é a autenticação. Enquanto algumas APIs são grátis, outras são pagas. Ainda temos algumas híbridas: você pode gratuitamente acessar certos recursos, ou consumir um certo volume de dados, e acima disso você deverá pagar. Os dois modelos mais comuns de autenticação:\n",
    "\n",
    "* Chave: ao fazer seu registro, você recebe uma chave que será inclusa na requisição, como é o caso do AlphaVantage.\n",
    "* OAuth: um esquema um pouco mais complexo onde são combinados códigos de autorização, identificação do cliente e segredo do cliente em um POST, e o servidor cria uma sessão por um tempo limitado e fornece o ID da mesma. APIs de gigantes da internet (como Google e Facebook) costumam usar esse modelo.\n",
    "\n",
    "### Rate limiting\n",
    "Um dado parcialmente relacionado ao item anterior. As APIs costumam limitar o número de requisições que você pode fazer em um instante de tempo (3 requisições por minuto, 10000 requisições por dia etc). Temos dois motivos:\n",
    "\n",
    "* Segurança: evitar uma sobrecarga no servidor deles que possa indisponibilizar a API para todos os usuários.\n",
    "* Venda de planos: várias APIs pagas possuem diferentes planos de pagamento. Os planos mais caros costumam permitir mais requisições do que os mais baratos ou gratuitos.\n",
    "\n",
    "### Wrappers\n",
    "Algumas APIs possuem tantas buscas diferentes e os resultados podem ser tão complexos que mesmo vindo em formatos simples como JSON pode ser um pouco trabalhoso montar as requisições e isolar os dados que queremos. Por conta disso, frequentemente são fornecidas wrapper libraries: bibliotecas escritas em linguagens de programação específicas que já trazem classes e funções prontas para fazer requisições automaticamente e já quebrar o resultado em objetos fáceis de serem utilizados. Elas também costumam oferecer alguns benefícios adicionais, como caching: de tempos em tempos a base de dados é totalmente ou parcialmente baixada por completo e salva localmente, o que ajuda a economizar requisições e, consequentemente, uso de dados (bastante útil considerando em usuários de dispositivos móveis, por exemplo).\n",
    "\n",
    "### Sandbox\n",
    "Várias APIs possuem no mesmo site de sua documentação uma área conhecida como sandbox, onde você pode simular requisições no próprio navegador e ver não só a resposta formatada, como informações sobre como montar aquela requisição em software.\n",
    "\n",
    "Aqui podemos observar a área de sandbox para fazer consultas de gastos por meio de cartão de pagamento do Portal da Transparência do governo federal. Note que ele mostra o schema e apresenta campos para preenchermos as buscas.\n",
    "\n",
    "<!-- ![Alt Text](image path \"title\") -->\n",
    "![Alt Text](https://s3-sa-east-1.amazonaws.com/lcpi/449b5eed-9152-4bf6-85c5-c2f42992cc66.png \"Optional Title\")\n",
    "\n",
    "E aqui, o resultado: ele gera o endereço completo para a busca baseado nos valores preenchidos nos campos e mostra a resposta formatada.\n",
    "\n",
    "<!-- ![Alt Text](image path \"title\") -->\n",
    "![Alt Text](https://s3-sa-east-1.amazonaws.com/lcpi/558def2b-d0a6-4ed8-8902-8cafb6ed560e.png \"Optional Title\")\n",
    "\n",
    "## Consumindo APIs em Python\n",
    "As APIs são meios de nos conectarmos a recursos na internet. Portanto, já possuímos as ferramentas na mão desde os capítulos anteriores. Você irá construir a lógica para decidir o que você irá buscar/consultar, montará uma string seguindo o formato indicado pela documentação da API (como todos os exemplos deste capítulo). Em seguida você tratará a resposta de acordo:\n",
    "\n",
    "* Se for JSON, utilize o método json da própria requests.\n",
    "* Se for CSV, utilize o módulo CSV estudado anteriormente.\n",
    "* Se for XML, podemos utilizar o módulo BeautifulSoup, que não será estudado aqui.\n",
    "* Para outros formatos, provavelmente a solução mais fácil será baixar um módulo preparado para lidar com eles.\n",
    "**Descobrindo APIs**: tem boas ideias e gostaria de saber se existe uma boa API para ajudar? Confira alguns bons repositórios de API organizados por categoria:\n",
    "\n",
    "https://github.com/n0shake/public-apis\n",
    "\n",
    "https://github.com/public-apis/public-apis\n",
    "\n",
    "https://any-api.com/\n",
    "\n",
    "Sites de governos costumam ter uma grande riqueza de dados também. Segue abaixo algumas sugestões (oficiais ou mantidas por voluntários) com dados do Brasil como um todo. Experimente buscar por bases de dados de sua cidade ou estado!\n",
    "\n",
    "http://www.transparencia.gov.br/swagger-ui.html\n",
    "\n",
    "http://www.dados.gov.br/\n",
    "\n",
    "https://brasil.io/home/"
   ]
  }
 ],
 "metadata": {
  "kernelspec": {
   "display_name": "Python 3",
   "language": "python",
   "name": "python3"
  },
  "language_info": {
   "codemirror_mode": {
    "name": "ipython",
    "version": 3
   },
   "file_extension": ".py",
   "mimetype": "text/x-python",
   "name": "python",
   "nbconvert_exporter": "python",
   "pygments_lexer": "ipython3",
   "version": "3.9.6"
  }
 },
 "nbformat": 4,
 "nbformat_minor": 5
}
