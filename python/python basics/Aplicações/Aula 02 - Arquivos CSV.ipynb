{
 "cells": [
  {
   "cell_type": "code",
   "execution_count": null,
   "id": "3fa064b1",
   "metadata": {},
   "outputs": [],
   "source": []
  },
  {
   "cell_type": "code",
   "execution_count": null,
   "id": "1283118e",
   "metadata": {},
   "outputs": [],
   "source": []
  },
  {
   "cell_type": "code",
   "execution_count": null,
   "id": "38460820",
   "metadata": {},
   "outputs": [],
   "source": []
  },
  {
   "cell_type": "code",
   "execution_count": null,
   "id": "6698ee9b",
   "metadata": {},
   "outputs": [],
   "source": []
  },
  {
   "cell_type": "code",
   "execution_count": null,
   "id": "3bbaebce",
   "metadata": {},
   "outputs": [],
   "source": []
  },
  {
   "cell_type": "code",
   "execution_count": null,
   "id": "c5f8e76d",
   "metadata": {},
   "outputs": [],
   "source": []
  },
  {
   "cell_type": "markdown",
   "id": "ee8ba9b5",
   "metadata": {},
   "source": [
    "# TEXTO DA AULA\n",
    "\n",
    "<!-- [Text](link) -->\n",
    "[Clique aqui](https://s3-sa-east-1.amazonaws.com/lcpi/3ada13e0-1fd2-4602-9786-24bc0b16b2df.csv \"Optional Title\") para baixar o arquivo brasil_covid.csv.\n",
    "\n",
    "## CSV\n",
    "O formato CSV (Comma Separated Values, ou Valores Separados por Vírgula) é um arquivo de texto que representa dados em forma de tabela de forma simples.\n",
    "\n",
    "Cada linha do arquivo de texto é uma linha da tabela, e as colunas são separadas por vírgulas.\n",
    "\n",
    "1, 2, 3, 4\n",
    "\n",
    "5, 6, 7, 8\n",
    "\n",
    "9, 10, 11, 12\n",
    "\n",
    "Poderíamos manipular estes arquivos diretamente usando as funções de arquivo vistas anteriormente. Um fator complicador é que o formato CSV não é bem padronizado: apesar do nome, é normal que outros separadores sejam usados ao invés de vírgula, como \";\", para permitir que a vírgula seja usada em um campo. Idem para a separação entre linhas. Existe um módulo em Python para manipular arquivos CSV que nos ajuda a tratar essas diferenças. Todo programa que for utilizar o módulo CSV deverá importá-lo em seu início através do comando: import csv"
   ]
  },
  {
   "cell_type": "code",
   "execution_count": null,
   "id": "87349df3",
   "metadata": {},
   "outputs": [],
   "source": [
    "import csv\n",
    "\n",
    "with open('tabelaExemplo.csv', 'w') as arquivo:\n",
    "    escritor = csv.writer(arquivo, delimiter = ';', lineterminator = '\\n') #criando um escritor\n",
    "    lista = [[1, 2, 3], [4, 5, 6], [7, 8, 9]]\n",
    "    escritor.writerows(lista) # writerows escreve cada \"sublista\" da lista como uma linha\n",
    "\n",
    "with open('tabelaExemplo.csv', \"r\") as arquivo:\n",
    "    leitor = csv.reader(arquivo, delimiter = ';', lineterminator = '\\n') #criando um leitor\n",
    "    print(\"O conteúdo do arquivo é:\")\n",
    "    print(leitor)\n",
    "    for linha in leitor:\n",
    "        print(linha)"
   ]
  },
  {
   "cell_type": "markdown",
   "id": "df36a4c6",
   "metadata": {},
   "source": [
    "## DictReader e DictWriter\n",
    "Podemos também trabalhar com dicionários, nos quais a primeira linha é lida como a chave e as demais são os respectivos valores:"
   ]
  },
  {
   "cell_type": "code",
   "execution_count": null,
   "id": "246a832c",
   "metadata": {},
   "outputs": [],
   "source": [
    "import csv\n",
    "\n",
    "with open('email.csv', 'r') as emails:\n",
    "    leitor = csv.DictReader(emails, delimiter=';') #a primeira linha é lida como um cabeçalho\n",
    "    for linha in leitor:\n",
    "        print(linha['Login email']) #podemos chamar um valor específico de cada linha pela chave no cabeçallho\n",
    "\n",
    "\n",
    "with open('names.csv', 'w', newline='') as csvfile:\n",
    "    chaves = ['first_name', 'last_name'] # definimos o cabeçalho\n",
    "    writer = csv.DictWriter(csvfile, fieldnames=chaves) # especificamos o cabeçalho\n",
    "\n",
    "    writer.writeheader() # escrevemos o cabeçalho\n",
    "    writer.writerow({'first_name': 'Senhor', 'last_name': 'Batata'}) # escrevemos linhas com as chaves e valores\n",
    "    writer.writerow({'first_name': 'Will', 'last_name': 'Smith'})\n",
    "    writer.writerow({'first_name': 'Elon', 'last_name': 'Musk'})"
   ]
  }
 ],
 "metadata": {
  "kernelspec": {
   "display_name": "Python 3",
   "language": "python",
   "name": "python3"
  },
  "language_info": {
   "codemirror_mode": {
    "name": "ipython",
    "version": 3
   },
   "file_extension": ".py",
   "mimetype": "text/x-python",
   "name": "python",
   "nbconvert_exporter": "python",
   "pygments_lexer": "ipython3",
   "version": "3.9.6"
  }
 },
 "nbformat": 4,
 "nbformat_minor": 5
}
