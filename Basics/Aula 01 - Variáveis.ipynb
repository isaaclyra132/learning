{
 "cells": [
  {
   "cell_type": "markdown",
   "id": "28c0d311",
   "metadata": {},
   "source": [
    "# Hello world do Python"
   ]
  },
  {
   "cell_type": "code",
   "execution_count": 7,
   "id": "e391afdc",
   "metadata": {},
   "outputs": [
    {
     "name": "stdout",
     "output_type": "stream",
     "text": [
      "Hello, World!\n"
     ]
    }
   ],
   "source": [
    "print(\"Hello, World!\") "
   ]
  },
  {
   "cell_type": "markdown",
   "id": "26d88dac",
   "metadata": {},
   "source": [
    "# Armazenando valores na variável"
   ]
  },
  {
   "cell_type": "code",
   "execution_count": 8,
   "id": "991c4f36",
   "metadata": {},
   "outputs": [],
   "source": [
    "x = 5"
   ]
  },
  {
   "cell_type": "code",
   "execution_count": 10,
   "id": "ab48d76a",
   "metadata": {},
   "outputs": [
    {
     "name": "stdout",
     "output_type": "stream",
     "text": [
      "5\n"
     ]
    }
   ],
   "source": [
    "print(x)"
   ]
  },
  {
   "cell_type": "markdown",
   "id": "c07729ab",
   "metadata": {},
   "source": [
    "# Pegando o tipo da variável"
   ]
  },
  {
   "cell_type": "code",
   "execution_count": 11,
   "id": "53a8e6e3",
   "metadata": {
    "scrolled": true
   },
   "outputs": [
    {
     "name": "stdout",
     "output_type": "stream",
     "text": [
      "<class 'int'>\n"
     ]
    }
   ],
   "source": [
    "print(type(x))"
   ]
  },
  {
   "cell_type": "markdown",
   "id": "d9d7a771",
   "metadata": {},
   "source": [
    "# Tipos de variáveis"
   ]
  },
  {
   "cell_type": "code",
   "execution_count": 12,
   "id": "9b629b53",
   "metadata": {},
   "outputs": [
    {
     "name": "stdout",
     "output_type": "stream",
     "text": [
      "19.99 <class 'float'>\n"
     ]
    }
   ],
   "source": [
    "preco =19.99\n",
    "print(preco, type(preco))"
   ]
  },
  {
   "cell_type": "code",
   "execution_count": 13,
   "id": "83032a40",
   "metadata": {},
   "outputs": [
    {
     "name": "stdout",
     "output_type": "stream",
     "text": [
      "São Paulo <class 'str'>\n"
     ]
    }
   ],
   "source": [
    "cidade = \"São Paulo\"\n",
    "print(cidade, type(cidade))"
   ]
  },
  {
   "cell_type": "code",
   "execution_count": 14,
   "id": "4e009054",
   "metadata": {},
   "outputs": [
    {
     "name": "stdout",
     "output_type": "stream",
     "text": [
      "São Paulo <class 'str'>\n"
     ]
    }
   ],
   "source": [
    "cidade = 'São Paulo'\n",
    "print(cidade, type(cidade))"
   ]
  },
  {
   "cell_type": "code",
   "execution_count": 16,
   "id": "49cf83d8",
   "metadata": {},
   "outputs": [
    {
     "name": "stdout",
     "output_type": "stream",
     "text": [
      "True <class 'bool'>\n"
     ]
    }
   ],
   "source": [
    "disponivel = True\n",
    "print(disponivel, type(disponivel))"
   ]
  },
  {
   "cell_type": "code",
   "execution_count": 18,
   "id": "8d3c2529",
   "metadata": {},
   "outputs": [
    {
     "name": "stdout",
     "output_type": "stream",
     "text": [
      "False <class 'bool'>\n"
     ]
    }
   ],
   "source": [
    "ndisponivel = False\n",
    "print(ndisponivel, type(ndisponivel))"
   ]
  },
  {
   "cell_type": "markdown",
   "id": "ce6b2203",
   "metadata": {},
   "source": [
    "# TEXTO DA AULA VARIÁVEIS\n",
    "## Variáveis\n",
    "Variáveis são pedacinhos de memória onde armazenamos valores. Sempre que referenciamos o nome de uma variável, o valor é acessado. Definimos uma variável dando um nome a ela e usando o sinal de igual (=) para atribuir um valor."
   ]
  },
  {
   "cell_type": "code",
   "execution_count": 1,
   "id": "5e764049",
   "metadata": {},
   "outputs": [],
   "source": [
    "x = -10 # uma variável do tipo inteiro (int)\n",
    "y = 3.14 # uma variável do tipo real (float)\n",
    "escola = \"Let's Code\" # uma variável literal (string)\n",
    "primeiraAula = True # uma variável lógica (booleana)"
   ]
  },
  {
   "cell_type": "markdown",
   "id": "48f26875",
   "metadata": {},
   "source": [
    "Note que o operador igual (=) NÃO possui o mesmo comportamento da matemática. Na matemática, ele é um operador bidirecional: x = 2y seria a mesma coisa que 2y = x. No Python, ele é o que chamamos de um operador de ATRIBUIÇÃO: A expressão à direita do sinal é resolvida e seu resultado é armazenado na variável à esquerda.\n",
    "\n",
    "## Comentários"
   ]
  },
  {
   "cell_type": "code",
   "execution_count": 2,
   "id": "9503ee1b",
   "metadata": {},
   "outputs": [
    {
     "data": {
      "text/plain": [
       "'\\nO símbolo # é um comentário de apenas 1 linha.\\nUsando 3 aspas simples consecutivas é possível abrir um bloco de comentário\\nde múltiplas linhas. O bloco se encerra com outras 3 aspas simples.\\n'"
      ]
     },
     "execution_count": 2,
     "metadata": {},
     "output_type": "execute_result"
    }
   ],
   "source": [
    "# Linhas iniciadas com # são comentários.\n",
    "# Comentários são ignorados pelo Python e servem para explicar o código.\n",
    "'''\n",
    "O símbolo # é um comentário de apenas 1 linha.\n",
    "Usando 3 aspas simples consecutivas é possível abrir um bloco de comentário\n",
    "de múltiplas linhas. O bloco se encerra com outras 3 aspas simples.\n",
    "'''"
   ]
  },
  {
   "cell_type": "markdown",
   "id": "616c7132",
   "metadata": {},
   "source": [
    "# TEXTO DA AULA INSTALAÇÕES\n",
    "### Instalando o Python no Windows : Vídeo\n",
    "### Instalando o Python no Mac OS X\n",
    "Comando para instalação do HomeBrew:"
   ]
  },
  {
   "cell_type": "code",
   "execution_count": null,
   "id": "fd26bad8",
   "metadata": {},
   "outputs": [],
   "source": [
    "/usr/bin/ruby -e \"$(curl -fsSL https://raw.githubusercontent.com/Homebrew/install/master/install)\""
   ]
  },
  {
   "cell_type": "markdown",
   "id": "a695a973",
   "metadata": {},
   "source": [
    "### Instalando o Python no Linux (debian/ubuntu):"
   ]
  },
  {
   "cell_type": "code",
   "execution_count": null,
   "id": "5f9461c5",
   "metadata": {},
   "outputs": [],
   "source": [
    "apt install python3 python3-pip"
   ]
  },
  {
   "cell_type": "markdown",
   "id": "3f42d5c2",
   "metadata": {},
   "source": [
    "## Jupyter Notebook\n",
    "Com o Python instalado, você já pode abrir o prompt de comando para digitar os seguintes comandos:\n",
    "\n",
    "Para instalar o programa Jupyter Notebook, que utilizaremos para escrever nossos códigos Python:"
   ]
  },
  {
   "cell_type": "code",
   "execution_count": null,
   "id": "e43c4c52",
   "metadata": {},
   "outputs": [],
   "source": [
    "pip install notebook"
   ]
  },
  {
   "cell_type": "markdown",
   "id": "c36aeb2a",
   "metadata": {},
   "source": [
    "Para garantir que estamos utilizando a versão mais recente do Jupyter Notebook:"
   ]
  },
  {
   "cell_type": "code",
   "execution_count": null,
   "id": "75a42a6c",
   "metadata": {},
   "outputs": [],
   "source": [
    "pip install notebook --upgrade"
   ]
  },
  {
   "cell_type": "markdown",
   "id": "08485dac",
   "metadata": {},
   "source": [
    "Para iniciar o programa Jupyter Notebook:"
   ]
  },
  {
   "cell_type": "code",
   "execution_count": null,
   "id": "a79f0e5c",
   "metadata": {},
   "outputs": [],
   "source": [
    "jupyter notebook"
   ]
  },
  {
   "cell_type": "markdown",
   "id": "c71bf217",
   "metadata": {},
   "source": [
    "Ao exercutar este comando, uma janela deverá se abrir em seu navegador (Chrome, Firefox, Edge, etc) com o Jupyter Notebook (uma alternativa é copiar e colar a URL que aparece em seu prompt de comando).\n",
    "\n",
    "Apenas para dar uma pequena prévia, vamos criar um novo arquivo selecionando \"New\" e então \"Notebook: Python 3\" (nesse momento, você pode optar por selecionar alguma pasta do seu computador, como Meus Documentos, para que o novo arquivo seja criado dentro dela).\n",
    "\n",
    "Uma nova janela se abrirá. Essa janela é a interface de escrita para o arquivo que você acabou de criar.\n",
    "\n",
    "Como você pode ver, existe uma célula vazia nesse arquivo. Nós vamos clicar nela e escrever:"
   ]
  },
  {
   "cell_type": "code",
   "execution_count": null,
   "id": "6b6834f9",
   "metadata": {},
   "outputs": [],
   "source": [
    "print(\"Hello, World!\") "
   ]
  },
  {
   "cell_type": "markdown",
   "id": "499321bf",
   "metadata": {},
   "source": [
    "E, com essa célula selecionada, vamos clicar em \"Run\".\n",
    "\n",
    "Alguns comentários finais:\n",
    "\n",
    "Existe uma versão do Jupyter Notebook online. Basta entrar no site dele para testar.\n",
    "Existe ainda outra ferramenta online para escrever notebooks chamada Google Colaboratory (ou Colab), um serviço gratuito do Google que você pode acessar por aqui sem instalar nada em seu PC (nem mesmo o Python). Para utilizá-lo, basta fazer o login com uma conta do Google. Seus arquivos serão salvos no Google Drive dessa conta do mesmo modo que um Google Docs ou Google Spreadsheet.\n",
    "E é isso, acabou. Ou melhor, só está começando! A partir de agora você pode seguir para as próximas aulas para aprender cada vez mais."
   ]
  }
 ],
 "metadata": {
  "kernelspec": {
   "display_name": "Python 3",
   "language": "python",
   "name": "python3"
  },
  "language_info": {
   "codemirror_mode": {
    "name": "ipython",
    "version": 3
   },
   "file_extension": ".py",
   "mimetype": "text/x-python",
   "name": "python",
   "nbconvert_exporter": "python",
   "pygments_lexer": "ipython3",
   "version": "3.9.6"
  }
 },
 "nbformat": 4,
 "nbformat_minor": 5
}
