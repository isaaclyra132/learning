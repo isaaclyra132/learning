{
 "cells": [
  {
   "cell_type": "markdown",
   "id": "6fd08dbd",
   "metadata": {},
   "source": [
    "# Operadores aritméticos"
   ]
  },
  {
   "cell_type": "code",
   "execution_count": 5,
   "id": "d6912169",
   "metadata": {},
   "outputs": [],
   "source": [
    "x = 50\n",
    "y = 2"
   ]
  },
  {
   "cell_type": "code",
   "execution_count": 6,
   "id": "7bd9a7cb",
   "metadata": {},
   "outputs": [
    {
     "name": "stdout",
     "output_type": "stream",
     "text": [
      "Resultado da Soma:  52\n",
      "Resultado da Subtração:  48\n",
      "Resultado da Multiplicação:  100\n",
      "Resultado da Divisão:  25.0\n"
     ]
    }
   ],
   "source": [
    "print(\"Resultado da Soma: \",x+y) #soma\n",
    "print(\"Resultado da Subtração: \",x-y) #subtração\n",
    "print(\"Resultado da Multiplicação: \",x*y) #multiplicação\n",
    "print(\"Resultado da Divisão: \", x/y) #divisão"
   ]
  },
  {
   "cell_type": "code",
   "execution_count": 7,
   "id": "fa831ad6",
   "metadata": {},
   "outputs": [
    {
     "name": "stdout",
     "output_type": "stream",
     "text": [
      "Resultado da exponenciação:  2500\n",
      "Resultado da divisão inteira:  25\n",
      "Resto da divisão:  0\n"
     ]
    }
   ],
   "source": [
    "print(\"Resultado da exponenciação: \", x**y) #exponenciação\n",
    "print(\"Resultado da divisão inteira: \", x//y) #divisão inteira\n",
    "print(\"Resto da divisão: \", x%y) #resto da divisão"
   ]
  },
  {
   "cell_type": "markdown",
   "id": "b9aa2b29",
   "metadata": {},
   "source": [
    "# Operadores lógicos"
   ]
  },
  {
   "cell_type": "code",
   "execution_count": 8,
   "id": "74f99ae3",
   "metadata": {},
   "outputs": [],
   "source": [
    "tem_cafe = True\n",
    "tem_pao = False"
   ]
  },
  {
   "cell_type": "code",
   "execution_count": 9,
   "id": "ae7e8c0c",
   "metadata": {},
   "outputs": [
    {
     "name": "stdout",
     "output_type": "stream",
     "text": [
      "False\n",
      "True\n",
      "False\n"
     ]
    }
   ],
   "source": [
    "print(not tem_cafe)\n",
    "print(tem_cafe or tem_pao)\n",
    "print(tem_cafe and tem_pao)"
   ]
  },
  {
   "cell_type": "markdown",
   "id": "5c1ff061",
   "metadata": {},
   "source": [
    "# Operadores relacionais"
   ]
  },
  {
   "cell_type": "code",
   "execution_count": 10,
   "id": "0c237425",
   "metadata": {},
   "outputs": [],
   "source": [
    "dolar = 5.3\n",
    "real = 1"
   ]
  },
  {
   "cell_type": "code",
   "execution_count": 21,
   "id": "de8529fd",
   "metadata": {},
   "outputs": [
    {
     "name": "stdout",
     "output_type": "stream",
     "text": [
      "True\n",
      "False\n",
      "False\n",
      "True\n",
      "False\n",
      "True\n"
     ]
    }
   ],
   "source": [
    "print(dolar > real) #maior\n",
    "print(dolar < real) #menor\n",
    "print(dolar == real) #igualdade\n",
    "print(dolar >= real) #maior ou igual\n",
    "print(dolar <= real) #menor ou igual\n",
    "print(dolar != real) #diferença"
   ]
  },
  {
   "cell_type": "markdown",
   "id": "9c727a38",
   "metadata": {},
   "source": [
    "# TEXTO DA AULA \n",
    "## Operadores aritméticos\n"
   ]
  },
  {
   "cell_type": "code",
   "execution_count": null,
   "id": "3b93b0fd",
   "metadata": {},
   "outputs": [],
   "source": [
    "# Podemos fazer operações aritméticas simples\n",
    "a = 2 + 3  # Soma\n",
    "b = 2 - 3  # Subtração\n",
    "c = 2 * 3  # Multiplicação\n",
    "d = 2 / 3  # Divisão\n",
    "e = 2 // 3 # Divisão inteira\n",
    "f = 2 ** 3 # Potência\n",
    "g = 2 % 3  # Resto de divisão\n",
    "\n",
    "print (a, b, c, d, e, f, g)\n",
    "\n",
    "# Podemos fazer operações dentro do print\n",
    "\n",
    "print (a+1, b+1)\n",
    "\n",
    "#Podemos fazer operações com variáveis não inteiras\n",
    "nome = input('Digite seu primeiro nome:')\n",
    "nome = nome + ' Schmitt'\n",
    "print(nome)"
   ]
  },
  {
   "cell_type": "markdown",
   "id": "f75c4ea4",
   "metadata": {},
   "source": [
    "## Operadores relacionais\n",
    "Observe o código abaixo:"
   ]
  },
  {
   "cell_type": "code",
   "execution_count": null,
   "id": "83df31ed",
   "metadata": {},
   "outputs": [],
   "source": [
    "comparacao1 = 5 > 3\n",
    "print(comparacao1)\n",
    "comparacao2 = 5 < 3\n",
    "print(comparacao2)"
   ]
  },
  {
   "cell_type": "markdown",
   "id": "5c6952cf",
   "metadata": {},
   "source": [
    "Ao ser executado, a saída que teremos na tela será:"
   ]
  },
  {
   "cell_type": "code",
   "execution_count": null,
   "id": "d3d13cd7",
   "metadata": {},
   "outputs": [],
   "source": [
    "True\n",
    "False"
   ]
  },
  {
   "cell_type": "markdown",
   "id": "c8585405",
   "metadata": {},
   "source": [
    "Isso ocorre porque 5 é maior que 3. Portanto, comparacao1 recebeu uma expressão cujo valor lógico é verdadeiro, portanto seu resultado foi True, e o oposto ocorreu para comparacao2.\n",
    "\n",
    "O Python possui 6 operadores relacionais:\n",
    "\n",
    "* Maior que: >\n",
    "\n",
    "* Maior ou igual: >=\n",
    "\n",
    "* Menor que: <\n",
    "\n",
    "* Menor ou igual: <=\n",
    "\n",
    "* Igual: ==\n",
    "\n",
    "* Diferente: !=\n",
    "\n",
    "Note que o operador para comparar se 2 valores são iguais é ==, e não =. Isso ocorre porque o operador = é o nosso operador de atribuição: ele diz que a variável à sua esquerda deve receber o valor da expressão à direita. O operador == irá testar se o valor à sua esquerda é igual ao valor à sua direita e irá responder True ou False, como todos os outros operadores de comparação.\n",
    "\n",
    "## Operadores lógicos\n",
    "Em alguns casos também precisamos testar se duas ou mais condições são verdadeiras. Para isso utilizaremos as conjunções lógicas:\n",
    "\n",
    "and: verdadeiro se condição 1 for verdadeira e condição 2 for verdadeira\n",
    "or: verdadeiro se condição 1 for verdadeira ou condição 2 for verdadeira\n",
    "No exemplo abaixo, o resultado é verdadeiro para comparacao1 e falso para comparacao2."
   ]
  },
  {
   "cell_type": "code",
   "execution_count": 11,
   "id": "6eb55459",
   "metadata": {},
   "outputs": [],
   "source": [
    "comparacao1 = 5 > 3 and 6 > 3\n",
    "comparacao2 = 5 < 3 and 6 > 3"
   ]
  },
  {
   "cell_type": "markdown",
   "id": "96ff9b2e",
   "metadata": {},
   "source": [
    "Já no exemplo seguinte, tanto comparacao1 quanto comparacao2 retornam o valor verdadeiro."
   ]
  },
  {
   "cell_type": "code",
   "execution_count": 12,
   "id": "4ab8ba0d",
   "metadata": {},
   "outputs": [],
   "source": [
    "comparacao1 = 5 > 3 or 6 > 3\n",
    "comparacao2 = 5 < 3 or 6 > 3"
   ]
  },
  {
   "cell_type": "markdown",
   "id": "5afcacaa",
   "metadata": {},
   "source": [
    "Também é possível negar uma expressão lógica usando o not. Em outras palavras, se comparacao1 = 5 > 3 é verdadeira, comparacao1 = not(5 > 3) será falsa, e vice-versa."
   ]
  }
 ],
 "metadata": {
  "kernelspec": {
   "display_name": "Python 3",
   "language": "python",
   "name": "python3"
  },
  "language_info": {
   "codemirror_mode": {
    "name": "ipython",
    "version": 3
   },
   "file_extension": ".py",
   "mimetype": "text/x-python",
   "name": "python",
   "nbconvert_exporter": "python",
   "pygments_lexer": "ipython3",
   "version": "3.9.6"
  }
 },
 "nbformat": 4,
 "nbformat_minor": 5
}
