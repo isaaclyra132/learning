{
 "cells": [
  {
   "cell_type": "markdown",
   "id": "9cacf98a",
   "metadata": {},
   "source": [
    "# Estruturas de Repetição"
   ]
  },
  {
   "cell_type": "markdown",
   "id": "8af3b9bb",
   "metadata": {},
   "source": [
    "## While"
   ]
  },
  {
   "cell_type": "code",
   "execution_count": null,
   "id": "ee6d710a",
   "metadata": {},
   "outputs": [],
   "source": [
    "contador = 0\n",
    "while contador<10:\n",
    "    contador = contador + 1\n",
    "    if contador == 1:\n",
    "        print(contador, \"item limpo\")\n",
    "    else:\n",
    "        print(contador, \"itens limpo\")\n",
    "print('Fim da repetição do bloco while')"
   ]
  },
  {
   "cell_type": "code",
   "execution_count": null,
   "id": "308028dc",
   "metadata": {},
   "outputs": [],
   "source": [
    "contador = 0\n",
    "\n",
    "while True: # nao é uma boa pratica pq nao fica explícito as condições de parada\n",
    "    if contador < 10:\n",
    "        contador = contador + 1\n",
    "        if contador == 1:\n",
    "            print(contador, \"item limpo\")\n",
    "        else:\n",
    "            print(contador, \"itens limpo\")\n",
    "    else:\n",
    "        break # quebra o laço mais próximo\n",
    "print('Fim da repetição do bloco while')"
   ]
  },
  {
   "cell_type": "code",
   "execution_count": null,
   "id": "4cc87711",
   "metadata": {},
   "outputs": [],
   "source": [
    "texto  = input('Digite a sua senha: ')\n",
    "\n",
    "while texto != 'LetsCode':\n",
    "    texto = input('Senha invalida, tente novamente: ')\n",
    "\n",
    "print('Acesso permitido')"
   ]
  },
  {
   "cell_type": "code",
   "execution_count": null,
   "id": "5e09da33",
   "metadata": {},
   "outputs": [],
   "source": [
    "contador = 0\n",
    "while contador<10:\n",
    "    contador = contador + 1\n",
    "    if contador == 1:\n",
    "        continue #continua a execução do código, é o contrário do break\n",
    "    else:\n",
    "        print(contador, \"itens limpo\")\n",
    "print('Fim da repetição do bloco while')"
   ]
  },
  {
   "cell_type": "markdown",
   "id": "ec4ae602",
   "metadata": {},
   "source": [
    "# TEXTO DA AULA\n",
    "## While\n",
    "O while é bastante parecido com um 'if': ele possui uma expressão, e é executado caso ela seja verdadeira. Mas o if é executado apenas uma vez, e depois o código segue adiante.\n",
    "\n",
    "O while não: ao final de sua execução, ele torna a testar a expressão, e caso ela seja verdadeira, ele repete sua execução."
   ]
  },
  {
   "cell_type": "code",
   "execution_count": null,
   "id": "a9011acd",
   "metadata": {},
   "outputs": [],
   "source": [
    "horario = int(input('Qual horario é agora? '))\n",
    "\n",
    "# Testando a condição uma única vez com o if:\n",
    "if 0 < horario < 6:\n",
    "    print('Você está no horario da madrugada')\n",
    "else:\n",
    "    print('Você nao está no horario da madrugada')\n",
    "\n",
    "# Testando a condição em loop com o while:\n",
    "while 0 < horario < 6:\n",
    "    print('Você está no horario da madrugada')\n",
    "    horario = horario + 1\n",
    "else:\n",
    "    print('Você nao está no horario da madrugada')\n",
    "\n",
    "# O while permite continuar decrementando o número de pipocas até chegar em 0:\n",
    "num_pipocas = int(input('Digite o numero de pipocas: '))\n",
    "\n",
    "while num_pipocas > 0:\n",
    "    print('O numero de pipocas é: ', num_pipocas)\n",
    "    num_pipocas = num_pipocas - 1"
   ]
  },
  {
   "cell_type": "markdown",
   "id": "8abbb707",
   "metadata": {},
   "source": [
    "## Validação de entrada\n",
    "Uma utilidade interessante do while é obrigar o usuário a digitar apenas entradas válidas."
   ]
  },
  {
   "cell_type": "code",
   "execution_count": 1,
   "id": "e1348246",
   "metadata": {},
   "outputs": [
    {
     "ename": "KeyboardInterrupt",
     "evalue": "Interrupted by user",
     "output_type": "error",
     "traceback": [
      "\u001b[1;31m---------------------------------------------------------------------------\u001b[0m",
      "\u001b[1;31mKeyboardInterrupt\u001b[0m                         Traceback (most recent call last)",
      "\u001b[1;32m<ipython-input-1-3dcc6a3e2438>\u001b[0m in \u001b[0;36m<module>\u001b[1;34m\u001b[0m\n\u001b[0;32m      1\u001b[0m \u001b[1;31m# o exemplo abaixo não aceita um salário menor do que o mínimo atual:\u001b[0m\u001b[1;33m\u001b[0m\u001b[1;33m\u001b[0m\u001b[1;33m\u001b[0m\u001b[0m\n\u001b[1;32m----> 2\u001b[1;33m \u001b[0msalario\u001b[0m \u001b[1;33m=\u001b[0m \u001b[0mfloat\u001b[0m\u001b[1;33m(\u001b[0m\u001b[0minput\u001b[0m\u001b[1;33m(\u001b[0m\u001b[1;34m'Digite seu salario: '\u001b[0m\u001b[1;33m)\u001b[0m\u001b[1;33m)\u001b[0m\u001b[1;33m\u001b[0m\u001b[1;33m\u001b[0m\u001b[0m\n\u001b[0m\u001b[0;32m      3\u001b[0m \u001b[1;32mwhile\u001b[0m \u001b[0msalario\u001b[0m \u001b[1;33m<\u001b[0m \u001b[1;36m998.0\u001b[0m\u001b[1;33m:\u001b[0m\u001b[1;33m\u001b[0m\u001b[1;33m\u001b[0m\u001b[0m\n\u001b[0;32m      4\u001b[0m     \u001b[0msalario\u001b[0m \u001b[1;33m=\u001b[0m \u001b[0mfloat\u001b[0m\u001b[1;33m(\u001b[0m\u001b[0minput\u001b[0m\u001b[1;33m(\u001b[0m\u001b[1;34m'Entre com um salario MAIOR DO QUE 998.0: '\u001b[0m\u001b[1;33m)\u001b[0m\u001b[1;33m)\u001b[0m\u001b[1;33m\u001b[0m\u001b[1;33m\u001b[0m\u001b[0m\n\u001b[0;32m      5\u001b[0m \u001b[1;32melse\u001b[0m\u001b[1;33m:\u001b[0m\u001b[1;33m\u001b[0m\u001b[1;33m\u001b[0m\u001b[0m\n",
      "\u001b[1;32mc:\\users\\isaac de lyra\\appdata\\local\\programs\\python\\python39\\lib\\site-packages\\ipykernel\\kernelbase.py\u001b[0m in \u001b[0;36mraw_input\u001b[1;34m(self, prompt)\u001b[0m\n\u001b[0;32m    846\u001b[0m                 \u001b[1;34m\"raw_input was called, but this frontend does not support input requests.\"\u001b[0m\u001b[1;33m\u001b[0m\u001b[1;33m\u001b[0m\u001b[0m\n\u001b[0;32m    847\u001b[0m             )\n\u001b[1;32m--> 848\u001b[1;33m         return self._input_request(str(prompt),\n\u001b[0m\u001b[0;32m    849\u001b[0m             \u001b[0mself\u001b[0m\u001b[1;33m.\u001b[0m\u001b[0m_parent_ident\u001b[0m\u001b[1;33m,\u001b[0m\u001b[1;33m\u001b[0m\u001b[1;33m\u001b[0m\u001b[0m\n\u001b[0;32m    850\u001b[0m             \u001b[0mself\u001b[0m\u001b[1;33m.\u001b[0m\u001b[0m_parent_header\u001b[0m\u001b[1;33m,\u001b[0m\u001b[1;33m\u001b[0m\u001b[1;33m\u001b[0m\u001b[0m\n",
      "\u001b[1;32mc:\\users\\isaac de lyra\\appdata\\local\\programs\\python\\python39\\lib\\site-packages\\ipykernel\\kernelbase.py\u001b[0m in \u001b[0;36m_input_request\u001b[1;34m(self, prompt, ident, parent, password)\u001b[0m\n\u001b[0;32m    890\u001b[0m             \u001b[1;32mexcept\u001b[0m \u001b[0mKeyboardInterrupt\u001b[0m\u001b[1;33m:\u001b[0m\u001b[1;33m\u001b[0m\u001b[1;33m\u001b[0m\u001b[0m\n\u001b[0;32m    891\u001b[0m                 \u001b[1;31m# re-raise KeyboardInterrupt, to truncate traceback\u001b[0m\u001b[1;33m\u001b[0m\u001b[1;33m\u001b[0m\u001b[1;33m\u001b[0m\u001b[0m\n\u001b[1;32m--> 892\u001b[1;33m                 \u001b[1;32mraise\u001b[0m \u001b[0mKeyboardInterrupt\u001b[0m\u001b[1;33m(\u001b[0m\u001b[1;34m\"Interrupted by user\"\u001b[0m\u001b[1;33m)\u001b[0m \u001b[1;32mfrom\u001b[0m \u001b[1;32mNone\u001b[0m\u001b[1;33m\u001b[0m\u001b[1;33m\u001b[0m\u001b[0m\n\u001b[0m\u001b[0;32m    893\u001b[0m             \u001b[1;32mexcept\u001b[0m \u001b[0mException\u001b[0m \u001b[1;32mas\u001b[0m \u001b[0me\u001b[0m\u001b[1;33m:\u001b[0m\u001b[1;33m\u001b[0m\u001b[1;33m\u001b[0m\u001b[0m\n\u001b[0;32m    894\u001b[0m                 \u001b[0mself\u001b[0m\u001b[1;33m.\u001b[0m\u001b[0mlog\u001b[0m\u001b[1;33m.\u001b[0m\u001b[0mwarning\u001b[0m\u001b[1;33m(\u001b[0m\u001b[1;34m\"Invalid Message:\"\u001b[0m\u001b[1;33m,\u001b[0m \u001b[0mexc_info\u001b[0m\u001b[1;33m=\u001b[0m\u001b[1;32mTrue\u001b[0m\u001b[1;33m)\u001b[0m\u001b[1;33m\u001b[0m\u001b[1;33m\u001b[0m\u001b[0m\n",
      "\u001b[1;31mKeyboardInterrupt\u001b[0m: Interrupted by user"
     ]
    }
   ],
   "source": [
    "# o exemplo abaixo não aceita um salário menor do que o mínimo atual:\n",
    "salario = float(input('Digite seu salario: '))\n",
    "while salario < 998.0:\n",
    "    salario = float(input('Entre com um salario MAIOR DO QUE 998.0: '))\n",
    "else:\n",
    "    print('O salario que você entrou foi: ', salario)\n"
   ]
  },
  {
   "cell_type": "code",
   "execution_count": null,
   "id": "26bd7b62",
   "metadata": {},
   "outputs": [],
   "source": [
    "# o exemplo abaixo só sai do loop quando o usuário digitar \"OK\":\n",
    "resposta = input('Digite OK: ')\n",
    "while resposta != 'OK':\n",
    "    resposta = input('Não foi isso que eu pedi, digite OK: ')"
   ]
  },
  {
   "cell_type": "markdown",
   "id": "cb74cab9",
   "metadata": {},
   "source": [
    "## Contador\n",
    "Todo tipo de código que deve se repetir várias vezes pode ser feito com o while, como somar vários valores, gerar uma sequência etc. Nestes casos, é normal utilizar um contador:"
   ]
  },
  {
   "cell_type": "code",
   "execution_count": null,
   "id": "30be194a",
   "metadata": {},
   "outputs": [],
   "source": [
    "# Declaramos um contador como 0:\n",
    "contador = 0\n",
    "# Definimos o número de repetições:\n",
    "numero = int(input('Digite um numero: '))\n",
    "# Rodamos o while até o contador se igualar ao número de repetições:\n",
    "while contador < numero:\n",
    "    print(contador)\n",
    "    contador = contador + 1"
   ]
  },
  {
   "cell_type": "markdown",
   "id": "821a3955",
   "metadata": {},
   "source": [
    "## Break\n",
    "Um jeito de forçar um loop a ser interrompido é utilizando o comando 'break'. O loop abaixo em tese seria infinito, mas se a condição do if for verificada, o break é executado e conseguimos escapar do loop:"
   ]
  },
  {
   "cell_type": "code",
   "execution_count": null,
   "id": "8c83c8f5",
   "metadata": {},
   "outputs": [],
   "source": [
    "while True:\n",
    "    resposta = input('Digite OK: ')\n",
    "    if resposta == 'OK':\n",
    "        break"
   ]
  }
 ],
 "metadata": {
  "kernelspec": {
   "display_name": "Python 3",
   "language": "python",
   "name": "python3"
  },
  "language_info": {
   "codemirror_mode": {
    "name": "ipython",
    "version": 3
   },
   "file_extension": ".py",
   "mimetype": "text/x-python",
   "name": "python",
   "nbconvert_exporter": "python",
   "pygments_lexer": "ipython3",
   "version": "3.9.6"
  }
 },
 "nbformat": 4,
 "nbformat_minor": 5
}
